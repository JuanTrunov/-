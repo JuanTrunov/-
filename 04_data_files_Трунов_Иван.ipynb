{
  "nbformat": 4,
  "nbformat_minor": 0,
  "metadata": {
    "colab": {
      "provenance": []
    },
    "kernelspec": {
      "name": "python3",
      "display_name": "Python 3"
    },
    "language_info": {
      "name": "python"
    }
  },
  "cells": [
    {
      "cell_type": "markdown",
      "source": [
        "##Задачи для совместного разбора\n",
        "1) Вывести все адреса электронной почты, содержащиеся в адресной книге addres-book.json"
      ],
      "metadata": {
        "id": "8mxJV7fx3nq9"
      }
    },
    {
      "cell_type": "code",
      "execution_count": 3,
      "metadata": {
        "colab": {
          "base_uri": "https://localhost:8080/"
        },
        "id": "kyRI6aO9umnv",
        "outputId": "10f92f02-8f1a-4727-c487-27b5f36fee2c"
      },
      "outputs": [
        {
          "output_type": "stream",
          "name": "stdout",
          "text": [
            "faina@mail.ru\n",
            "robert@mail.ru\n"
          ]
        }
      ],
      "source": [
        "import json\n",
        "import requests\n",
        "\n",
        "with open('addres-book.json') as json_file:\n",
        "    data = json.load(json_file)\n",
        "    for emails in data:\n",
        "      print(emails['email'])"
      ]
    },
    {
      "cell_type": "markdown",
      "source": [
        "2) Вывести телефоны, содержащиеся в адресной книге addres-book.json"
      ],
      "metadata": {
        "id": "5bNXfUqK4Jnd"
      }
    },
    {
      "cell_type": "code",
      "source": [
        "with open('addres-book.json') as json_file:\n",
        "    data = json.load(json_file)\n",
        "    for i in data:\n",
        "      new_data = (i['phones'])\n",
        "      for k in new_data:\n",
        "        print(k['phone'])\n"
      ],
      "metadata": {
        "colab": {
          "base_uri": "https://localhost:8080/"
        },
        "id": "RpVmk-oL4SHP",
        "outputId": "4bf66808-b766-4039-e31f-eb854cc3b9ad"
      },
      "execution_count": 4,
      "outputs": [
        {
          "output_type": "stream",
          "name": "stdout",
          "text": [
            "232-19-55\n",
            "+7 (916) 232-19-55\n",
            "111-19-55\n",
            "+7 (916) 445-19-55\n"
          ]
        }
      ]
    },
    {
      "cell_type": "markdown",
      "source": [
        "3) По данным из файла addres-book-q.xml сформировать список словарей с телефонами каждого из людей."
      ],
      "metadata": {
        "id": "Cxu42HTjGM6z"
      }
    },
    {
      "cell_type": "code",
      "source": [
        "from bs4 import BeautifulSoup\n",
        "\n",
        "with open('addres-book-q.xml') as f:\n",
        "    soup = BeautifulSoup(f, 'xml')\n",
        "\n",
        "phonebook = []\n",
        "for person in soup.find_all(\"address\"):\n",
        "    phones = [phone.next for phone in person.phones.find_all(\"phone\")]\n",
        "    name = person.find(\"name\").next\n",
        "    phonebook.append({name: phones})\n",
        "\n",
        "for item in phonebook:\n",
        "    for key, value in item.items():\n",
        "        print(key + ':', ', '.join(value))\n",
        "\n",
        "\n"
      ],
      "metadata": {
        "colab": {
          "base_uri": "https://localhost:8080/"
        },
        "id": "SC5L18ftN2C4",
        "outputId": "db1aeb40-7932-4b5c-ae7e-359a758c3dca"
      },
      "execution_count": 5,
      "outputs": [
        {
          "output_type": "stream",
          "name": "stdout",
          "text": [
            "Aicha Barki: + (213) 6150 4015, + (213) 2173 5247\n",
            "Francisco Domingos: + (244-2) 325 023, + (244-2) 325 023\n",
            "Maria Luisa: + (244) 4232 2836\n",
            "Abraao Chanda: + (244-2) 325 023, + (244-2) 325 023\n",
            "Beatriz Busaniche: + (54-11) 4784 1159\n",
            "Francesca Beddie: + (61-2) 6274 9500, + (61-2) 6274 9513\n",
            "Graham John Smith: + (61-3) 9807 4702\n"
          ]
        }
      ]
    },
    {
      "cell_type": "markdown",
      "source": [
        "# Лабораторная работа №4"
      ],
      "metadata": {
        "id": "lFQMFQ0_ZFFv"
      }
    },
    {
      "cell_type": "markdown",
      "source": [
        "# JSON"
      ],
      "metadata": {
        "id": "gVnjuL-gZIH2"
      }
    },
    {
      "cell_type": "markdown",
      "source": [
        "1.1 Считайте файл contributors_sample.json. Воспользовавшись модулем json, преобразуйте содержимое файла в соответствующие объекты python. Выведите на экран информацию о первых 3 пользователях.\n"
      ],
      "metadata": {
        "id": "YRgA20N5ZUmZ"
      }
    },
    {
      "cell_type": "code",
      "source": [
        "with open('contributors_sample.json', 'r') as file:\n",
        "    contributors = json.load(file)\n",
        "\n",
        "for contributor in contributors[:3]:\n",
        "    print(f\"Имя: {contributor['name']}\")"
      ],
      "metadata": {
        "colab": {
          "base_uri": "https://localhost:8080/"
        },
        "id": "a57viBWmZO12",
        "outputId": "c7ca5468-975c-411e-aa25-d515dc37f44a"
      },
      "execution_count": 7,
      "outputs": [
        {
          "output_type": "stream",
          "name": "stdout",
          "text": [
            "Имя: Lindsey Nguyen\n",
            "Имя: Cheryl Lewis\n",
            "Имя: Julia Allen\n"
          ]
        }
      ]
    },
    {
      "cell_type": "markdown",
      "source": [
        "1.2 Выведите уникальные почтовые домены, содержащиеся в почтовых адресах людей"
      ],
      "metadata": {
        "id": "CXfSR-oiZj5q"
      }
    },
    {
      "cell_type": "code",
      "source": [
        "with open('contributors_sample.json', 'r') as f:\n",
        "    contributors = json.load(f)\n",
        "\n",
        "domains = set() # множество удаляет не уникальные\n",
        "\n",
        "for contributor in contributors:\n",
        "    email = contributor['mail']\n",
        "    if email:\n",
        "        domain = email.split('@')[1] \n",
        "        domains.add(domain)\n",
        "\n",
        "for domain in domains:\n",
        "    print(domain)"
      ],
      "metadata": {
        "colab": {
          "base_uri": "https://localhost:8080/"
        },
        "id": "KhvuObcwZpLB",
        "outputId": "b7b0d9d5-eac3-4b55-aa3b-97a69da00140"
      },
      "execution_count": 10,
      "outputs": [
        {
          "output_type": "stream",
          "name": "stdout",
          "text": [
            "hotmail.com\n",
            "gmail.com\n",
            "yahoo.com\n"
          ]
        }
      ]
    },
    {
      "cell_type": "markdown",
      "source": [
        "1.3 Напишите функцию, которая по username ищет человека и выводит информацию о нем. Если пользователь с заданным username отсутствует, возбудите исключение ValueError"
      ],
      "metadata": {
        "id": "8OhpQU-FZwYR"
      }
    },
    {
      "cell_type": "code",
      "source": [
        "with open('contributors_sample.json', 'r') as f:\n",
        "    contributors = json.load(f)\n",
        "\n",
        "\n",
        "def find_contributor_by_username(username):\n",
        "    with open('contributors_sample.json', 'r') as f:\n",
        "        contributors = json.load(f)\n",
        "\n",
        "    for contributor in contributors:\n",
        "        if contributor['username'] == username:\n",
        "            print(f\"Никнейм: {contributor['username']}\")\n",
        "            print(f\"Имя: {contributor['name']}\")\n",
        "            print(f\"Пол: {contributor['sex']}\")\n",
        "            print(f\"Адрес: {contributor['address']}\")\n",
        "            print(f\"Email: {contributor['mail']}\")\n",
        "            print(f\"Работы: {contributor['jobs']}\")\n",
        "            print(f\"ID: {contributor['id']}\")\n",
        "            return\n",
        "        \n",
        "    raise ValueError(f\"Пользователь с username '{username}' не найден.\")\n",
        "\n",
        "find_contributor_by_username('woodmarissa')"
      ],
      "metadata": {
        "colab": {
          "base_uri": "https://localhost:8080/"
        },
        "id": "tSfUGGB9Z1pR",
        "outputId": "9bd304bd-9f5a-4143-eb89-53073a804945"
      },
      "execution_count": 8,
      "outputs": [
        {
          "output_type": "stream",
          "name": "stdout",
          "text": [
            "Никнейм: woodmarissa\n",
            "Имя: Michael Jackson\n",
            "Пол: M\n",
            "Адрес: 4531 Phillips Underpass\n",
            "Martinezport, MA 82685\n",
            "Email: dustin32@hotmail.com\n",
            "Работы: ['Designer, furniture', 'Designer, furniture', 'Lecturer, higher education']\n",
            "ID: 113941\n"
          ]
        }
      ]
    },
    {
      "cell_type": "markdown",
      "source": [
        "1.4 Посчитайте, сколько мужчин и женщин присутсвует в этом наборе данных."
      ],
      "metadata": {
        "id": "7H_p2PbDa-HC"
      }
    },
    {
      "cell_type": "code",
      "source": [
        "with open('contributors_sample.json', 'r') as f:\n",
        "    contributors = json.load(f)\n",
        "\n",
        "\n",
        "male_count = 0\n",
        "female_count = 0\n",
        "\n",
        "for contributor in contributors:\n",
        "    if contributor['sex'] == 'M':\n",
        "        male_count += 1\n",
        "    elif contributor['sex'] == 'F':\n",
        "        female_count += 1\n",
        "\n",
        "print(f\"Количество мужчин: {male_count}\")\n",
        "print(f\"Количество женщин: {female_count}\")"
      ],
      "metadata": {
        "colab": {
          "base_uri": "https://localhost:8080/"
        },
        "id": "MxZOzOW3bB-S",
        "outputId": "3613daa5-cfa4-4518-d68a-bc6ecc50f156"
      },
      "execution_count": 11,
      "outputs": [
        {
          "output_type": "stream",
          "name": "stdout",
          "text": [
            "Количество мужчин: 2064\n",
            "Количество женщин: 2136\n"
          ]
        }
      ]
    },
    {
      "cell_type": "markdown",
      "source": [
        "1.5 Создайте `pd.DataFrame` `contributors`, имеющий столбцы `id, username и sex`."
      ],
      "metadata": {
        "id": "30clZ4ChbRD6"
      }
    },
    {
      "cell_type": "code",
      "source": [
        "import pandas as pd\n",
        "with open('contributors_sample.json', 'r') as f:\n",
        "    contributors = json.load(f)\n",
        "\n",
        "contributors_dict = {'id': [], 'username': [], 'sex': []}\n",
        "\n",
        "for contributor in contributors:\n",
        "    contributors_dict['id'].append(contributor['id'])\n",
        "    contributors_dict['username'].append(contributor['username'])\n",
        "    contributors_dict['sex'].append(contributor['sex'])\n",
        "\n",
        "contributors = pd.DataFrame.from_dict(contributors_dict)\n",
        "contributors"
      ],
      "metadata": {
        "colab": {
          "base_uri": "https://localhost:8080/",
          "height": 424
        },
        "id": "H1_mu2CYbgmS",
        "outputId": "4369d6d2-90ae-41d0-e22c-6bfd92905fb3"
      },
      "execution_count": 13,
      "outputs": [
        {
          "output_type": "execute_result",
          "data": {
            "text/plain": [
              "           id       username sex\n",
              "0       35193        uhebert   F\n",
              "1       91970    vickitaylor   F\n",
              "2     1848091    sheilaadams   F\n",
              "3       50969       nicole82   F\n",
              "4      676820         jean67   M\n",
              "...       ...            ...  ..\n",
              "4195   423555  stevenspencer   F\n",
              "4196    35251      rwilliams   M\n",
              "4197   135887      lmartinez   F\n",
              "4198   212714     brendahill   M\n",
              "4199   344321       mistyray   F\n",
              "\n",
              "[4200 rows x 3 columns]"
            ],
            "text/html": [
              "\n",
              "  <div id=\"df-61f89704-72e6-4ec5-80ef-41ff5822c0f5\">\n",
              "    <div class=\"colab-df-container\">\n",
              "      <div>\n",
              "<style scoped>\n",
              "    .dataframe tbody tr th:only-of-type {\n",
              "        vertical-align: middle;\n",
              "    }\n",
              "\n",
              "    .dataframe tbody tr th {\n",
              "        vertical-align: top;\n",
              "    }\n",
              "\n",
              "    .dataframe thead th {\n",
              "        text-align: right;\n",
              "    }\n",
              "</style>\n",
              "<table border=\"1\" class=\"dataframe\">\n",
              "  <thead>\n",
              "    <tr style=\"text-align: right;\">\n",
              "      <th></th>\n",
              "      <th>id</th>\n",
              "      <th>username</th>\n",
              "      <th>sex</th>\n",
              "    </tr>\n",
              "  </thead>\n",
              "  <tbody>\n",
              "    <tr>\n",
              "      <th>0</th>\n",
              "      <td>35193</td>\n",
              "      <td>uhebert</td>\n",
              "      <td>F</td>\n",
              "    </tr>\n",
              "    <tr>\n",
              "      <th>1</th>\n",
              "      <td>91970</td>\n",
              "      <td>vickitaylor</td>\n",
              "      <td>F</td>\n",
              "    </tr>\n",
              "    <tr>\n",
              "      <th>2</th>\n",
              "      <td>1848091</td>\n",
              "      <td>sheilaadams</td>\n",
              "      <td>F</td>\n",
              "    </tr>\n",
              "    <tr>\n",
              "      <th>3</th>\n",
              "      <td>50969</td>\n",
              "      <td>nicole82</td>\n",
              "      <td>F</td>\n",
              "    </tr>\n",
              "    <tr>\n",
              "      <th>4</th>\n",
              "      <td>676820</td>\n",
              "      <td>jean67</td>\n",
              "      <td>M</td>\n",
              "    </tr>\n",
              "    <tr>\n",
              "      <th>...</th>\n",
              "      <td>...</td>\n",
              "      <td>...</td>\n",
              "      <td>...</td>\n",
              "    </tr>\n",
              "    <tr>\n",
              "      <th>4195</th>\n",
              "      <td>423555</td>\n",
              "      <td>stevenspencer</td>\n",
              "      <td>F</td>\n",
              "    </tr>\n",
              "    <tr>\n",
              "      <th>4196</th>\n",
              "      <td>35251</td>\n",
              "      <td>rwilliams</td>\n",
              "      <td>M</td>\n",
              "    </tr>\n",
              "    <tr>\n",
              "      <th>4197</th>\n",
              "      <td>135887</td>\n",
              "      <td>lmartinez</td>\n",
              "      <td>F</td>\n",
              "    </tr>\n",
              "    <tr>\n",
              "      <th>4198</th>\n",
              "      <td>212714</td>\n",
              "      <td>brendahill</td>\n",
              "      <td>M</td>\n",
              "    </tr>\n",
              "    <tr>\n",
              "      <th>4199</th>\n",
              "      <td>344321</td>\n",
              "      <td>mistyray</td>\n",
              "      <td>F</td>\n",
              "    </tr>\n",
              "  </tbody>\n",
              "</table>\n",
              "<p>4200 rows × 3 columns</p>\n",
              "</div>\n",
              "      <button class=\"colab-df-convert\" onclick=\"convertToInteractive('df-61f89704-72e6-4ec5-80ef-41ff5822c0f5')\"\n",
              "              title=\"Convert this dataframe to an interactive table.\"\n",
              "              style=\"display:none;\">\n",
              "        \n",
              "  <svg xmlns=\"http://www.w3.org/2000/svg\" height=\"24px\"viewBox=\"0 0 24 24\"\n",
              "       width=\"24px\">\n",
              "    <path d=\"M0 0h24v24H0V0z\" fill=\"none\"/>\n",
              "    <path d=\"M18.56 5.44l.94 2.06.94-2.06 2.06-.94-2.06-.94-.94-2.06-.94 2.06-2.06.94zm-11 1L8.5 8.5l.94-2.06 2.06-.94-2.06-.94L8.5 2.5l-.94 2.06-2.06.94zm10 10l.94 2.06.94-2.06 2.06-.94-2.06-.94-.94-2.06-.94 2.06-2.06.94z\"/><path d=\"M17.41 7.96l-1.37-1.37c-.4-.4-.92-.59-1.43-.59-.52 0-1.04.2-1.43.59L10.3 9.45l-7.72 7.72c-.78.78-.78 2.05 0 2.83L4 21.41c.39.39.9.59 1.41.59.51 0 1.02-.2 1.41-.59l7.78-7.78 2.81-2.81c.8-.78.8-2.07 0-2.86zM5.41 20L4 18.59l7.72-7.72 1.47 1.35L5.41 20z\"/>\n",
              "  </svg>\n",
              "      </button>\n",
              "      \n",
              "  <style>\n",
              "    .colab-df-container {\n",
              "      display:flex;\n",
              "      flex-wrap:wrap;\n",
              "      gap: 12px;\n",
              "    }\n",
              "\n",
              "    .colab-df-convert {\n",
              "      background-color: #E8F0FE;\n",
              "      border: none;\n",
              "      border-radius: 50%;\n",
              "      cursor: pointer;\n",
              "      display: none;\n",
              "      fill: #1967D2;\n",
              "      height: 32px;\n",
              "      padding: 0 0 0 0;\n",
              "      width: 32px;\n",
              "    }\n",
              "\n",
              "    .colab-df-convert:hover {\n",
              "      background-color: #E2EBFA;\n",
              "      box-shadow: 0px 1px 2px rgba(60, 64, 67, 0.3), 0px 1px 3px 1px rgba(60, 64, 67, 0.15);\n",
              "      fill: #174EA6;\n",
              "    }\n",
              "\n",
              "    [theme=dark] .colab-df-convert {\n",
              "      background-color: #3B4455;\n",
              "      fill: #D2E3FC;\n",
              "    }\n",
              "\n",
              "    [theme=dark] .colab-df-convert:hover {\n",
              "      background-color: #434B5C;\n",
              "      box-shadow: 0px 1px 3px 1px rgba(0, 0, 0, 0.15);\n",
              "      filter: drop-shadow(0px 1px 2px rgba(0, 0, 0, 0.3));\n",
              "      fill: #FFFFFF;\n",
              "    }\n",
              "  </style>\n",
              "\n",
              "      <script>\n",
              "        const buttonEl =\n",
              "          document.querySelector('#df-61f89704-72e6-4ec5-80ef-41ff5822c0f5 button.colab-df-convert');\n",
              "        buttonEl.style.display =\n",
              "          google.colab.kernel.accessAllowed ? 'block' : 'none';\n",
              "\n",
              "        async function convertToInteractive(key) {\n",
              "          const element = document.querySelector('#df-61f89704-72e6-4ec5-80ef-41ff5822c0f5');\n",
              "          const dataTable =\n",
              "            await google.colab.kernel.invokeFunction('convertToInteractive',\n",
              "                                                     [key], {});\n",
              "          if (!dataTable) return;\n",
              "\n",
              "          const docLinkHtml = 'Like what you see? Visit the ' +\n",
              "            '<a target=\"_blank\" href=https://colab.research.google.com/notebooks/data_table.ipynb>data table notebook</a>'\n",
              "            + ' to learn more about interactive tables.';\n",
              "          element.innerHTML = '';\n",
              "          dataTable['output_type'] = 'display_data';\n",
              "          await google.colab.output.renderOutput(dataTable, element);\n",
              "          const docLink = document.createElement('div');\n",
              "          docLink.innerHTML = docLinkHtml;\n",
              "          element.appendChild(docLink);\n",
              "        }\n",
              "      </script>\n",
              "    </div>\n",
              "  </div>\n",
              "  "
            ]
          },
          "metadata": {},
          "execution_count": 13
        }
      ]
    }
  ]
}