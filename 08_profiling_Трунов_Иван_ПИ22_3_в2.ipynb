{
  "cells": [
    {
      "cell_type": "markdown",
      "metadata": {
        "id": "V9bo0zjsaaqe"
      },
      "source": [
        "## Оптимизация выполнения кода, векторизация, Numba"
      ]
    },
    {
      "cell_type": "markdown",
      "metadata": {
        "id": "lr44OtVhaaqf"
      },
      "source": [
        "Материалы:\n",
        "* Макрушин С.В. Лекция 3: Оптимизация выполнения кода, векторизация, Numba\n",
        "* IPython Cookbook, Second Edition (2018), глава 4\n",
        "* https://numba.pydata.org/numba-doc/latest/user/5minguide.html"
      ]
    },
    {
      "cell_type": "code",
      "source": [
        "import random\n",
        "import numpy as np\n",
        "import pandas as pd\n",
        "import string\n",
        "from collections import defaultdict"
      ],
      "metadata": {
        "id": "A4S3ZeKN9414"
      },
      "execution_count": 1,
      "outputs": []
    },
    {
      "cell_type": "markdown",
      "metadata": {
        "id": "54-KoMZGaaqg"
      },
      "source": [
        "## Задачи для совместного разбора"
      ]
    },
    {
      "cell_type": "markdown",
      "metadata": {
        "id": "eb8lghaoaaqg"
      },
      "source": [
        "1. Сгенерируйте массив `A` из `N=1млн` случайных целых чисел на отрезке от 0 до 1000. Пусть `B[i] = A[i] + 100`. Посчитайте среднее значение массива `B`."
      ]
    },
    {
      "cell_type": "code",
      "execution_count": 3,
      "metadata": {
        "colab": {
          "base_uri": "https://localhost:8080/"
        },
        "id": "4mTYGWIlaaqh",
        "outputId": "dd60f718-a254-4a71-bef3-976512ebadc9"
      },
      "outputs": [
        {
          "output_type": "stream",
          "name": "stdout",
          "text": [
            "599.441979\n"
          ]
        }
      ],
      "source": [
        "from random import randint\n",
        "N = 1000000\n",
        "A = [randint(0, 1000) for _ in range(N)]\n",
        "B = [a + 100 for a in A] \n",
        "Average_B = sum(B) / N\n",
        "print(Average_B)"
      ]
    },
    {
      "cell_type": "markdown",
      "metadata": {
        "id": "3O0YZ62Jaaqh"
      },
      "source": [
        "2. Создайте таблицу 2млн строк и с 4 столбцами, заполненными случайными числами. Добавьте столбец `key`, которые содержит элементы из множества английских букв. Выберите из таблицы подмножество строк, для которых в столбце `key` указаны первые 5 английских букв."
      ]
    },
    {
      "cell_type": "code",
      "source": [
        "n_strok = 2000000\n",
        "n_col = 4\n",
        "\n",
        "data = [[random.random() for i in range(n_col)] for i in range(n_strok)]\n",
        "dtfr = pd.DataFrame(data, columns = [\"Столбец 1\", \"Столбец 2\", \"Столбец 3\", \"Столбец 4\"])\n",
        "\n",
        "letters = list(string.ascii_uppercase)\n",
        "key_column = random.choices(letters, k = n_strok)\n",
        "dtfr[\"key\"] = key_column\n",
        "\n",
        "podmnozhestvo = dtfr[dtfr[\"key\"].isin(letters[:5])]\n",
        "print(podmnozhestvo)"
      ],
      "metadata": {
        "colab": {
          "base_uri": "https://localhost:8080/"
        },
        "id": "km6eA6md9nKW",
        "outputId": "98e92f1f-5b83-4948-bfcc-08aaf66eef53"
      },
      "execution_count": 4,
      "outputs": [
        {
          "output_type": "stream",
          "name": "stdout",
          "text": [
            "         Столбец 1  Столбец 2  Столбец 3  Столбец 4 key\n",
            "1         0.324637   0.855391   0.643027   0.633980   C\n",
            "3         0.731551   0.211427   0.494211   0.407324   E\n",
            "17        0.148254   0.729788   0.611118   0.127282   C\n",
            "18        0.984990   0.103573   0.499724   0.284710   E\n",
            "21        0.096050   0.837872   0.955175   0.089940   A\n",
            "...            ...        ...        ...        ...  ..\n",
            "1999981   0.723191   0.723890   0.230369   0.209599   A\n",
            "1999990   0.513640   0.904358   0.255626   0.283254   C\n",
            "1999992   0.197475   0.773648   0.815148   0.313554   B\n",
            "1999993   0.918365   0.943757   0.610022   0.800675   C\n",
            "1999994   0.516663   0.757562   0.046410   0.204297   E\n",
            "\n",
            "[383554 rows x 5 columns]\n"
          ]
        }
      ]
    },
    {
      "cell_type": "markdown",
      "metadata": {
        "id": "KvRplcf1aaqh"
      },
      "source": [
        "## Лабораторная работа 3"
      ]
    },
    {
      "cell_type": "code",
      "execution_count": 26,
      "metadata": {
        "id": "thICIc6Baaqi",
        "colab": {
          "base_uri": "https://localhost:8080/"
        },
        "outputId": "1c28d26e-d9fa-4a0a-e2b1-8d877e13b4e5"
      },
      "outputs": [
        {
          "output_type": "stream",
          "name": "stdout",
          "text": [
            "Looking in indexes: https://pypi.org/simple, https://us-python.pkg.dev/colab-wheels/public/simple/\n",
            "Requirement already satisfied: line_profiler in /usr/local/lib/python3.10/dist-packages (4.0.3)\n"
          ]
        }
      ],
      "source": [
        "!pip install line_profiler"
      ]
    },
    {
      "cell_type": "markdown",
      "metadata": {
        "id": "dmIxj_MGaaqi"
      },
      "source": [
        "1. В файлах `recipes_sample.csv` и `reviews_sample.csv` (__ЛР 2__) находится информация об рецептах блюд и отзывах на эти рецепты соответственно. Загрузите данные из файлов в виде `pd.DataFrame` с названиями `recipes` и `reviews`. Обратите внимание на корректное считывание столбца(ов) с индексами. Приведите столбцы к нужным типам.\n",
        "\n",
        "Реализуйте несколько вариантов функции подсчета среднего значения столбца `rating` из таблицы `reviews` для отзывов, оставленных в 2010 году.\n",
        "\n",
        "A. С использованием метода `DataFrame.iterrows` исходной таблицы;\n",
        "\n",
        "Б. С использованием метода `DataFrame.iterrows` таблицы, в которой сохранены только отзывы за 2010 год;\n",
        "\n",
        "В. С использованием метода `Series.mean`.\n",
        "\n",
        "Проверьте, что результаты работы всех написанных функций корректны и совпадают. Измерьте выполнения всех написанных функций.\n"
      ]
    },
    {
      "cell_type": "code",
      "source": [
        "recipes = pd.read_csv('recipes_sample.csv')\n",
        "reviews = pd.read_csv('reviews_sample.csv')\n",
        "\n",
        "recipes['submitted'] = pd.to_datetime(recipes['submitted'])\n",
        "reviews['date'] = pd.to_datetime(reviews['date'])"
      ],
      "metadata": {
        "id": "DrCojIvDXBxh"
      },
      "execution_count": 9,
      "outputs": []
    },
    {
      "cell_type": "code",
      "source": [
        "def calculate_mean_rating_a(df):\n",
        "    total_rating = 0\n",
        "    count = 0\n",
        "    \n",
        "    for _, row in df.iterrows():\n",
        "        if row['date'].year == 2010:\n",
        "            total_rating += row['rating']\n",
        "            count += 1\n",
        "    \n",
        "    if count == 0:\n",
        "        return 0\n",
        "    \n",
        "    return total_rating / count\n",
        "\n",
        "mean_rating_a = calculate_mean_rating_a(reviews)\n",
        "print(\"Среднее значение рейтинга (метод A):\", mean_rating_a)"
      ],
      "metadata": {
        "colab": {
          "base_uri": "https://localhost:8080/"
        },
        "id": "LpAB1xU1XG1z",
        "outputId": "55b5633b-e63d-4834-f6af-1716e788ae7a"
      },
      "execution_count": 13,
      "outputs": [
        {
          "output_type": "stream",
          "name": "stdout",
          "text": [
            "Среднее значение рейтинга (метод A): 4.4544402182900615\n"
          ]
        }
      ]
    },
    {
      "cell_type": "code",
      "source": [
        "%%time\n",
        "calculate_mean_rating_a(reviews)"
      ],
      "metadata": {
        "colab": {
          "base_uri": "https://localhost:8080/"
        },
        "id": "PVJ4BupZZxSh",
        "outputId": "10d5cd2c-d9ea-45fe-fb92-03a4ed797914"
      },
      "execution_count": 14,
      "outputs": [
        {
          "output_type": "stream",
          "name": "stdout",
          "text": [
            "CPU times: user 6.4 s, sys: 30.7 ms, total: 6.43 s\n",
            "Wall time: 6.54 s\n"
          ]
        },
        {
          "output_type": "execute_result",
          "data": {
            "text/plain": [
              "4.4544402182900615"
            ]
          },
          "metadata": {},
          "execution_count": 14
        }
      ]
    },
    {
      "cell_type": "code",
      "source": [
        "def calculate_mean_rating_b(df):\n",
        "    total_rating = 0\n",
        "    count = 0\n",
        "    \n",
        "    for _, row in df[df['date'].dt.year == 2010].iterrows():\n",
        "        total_rating += row['rating']\n",
        "        count += 1\n",
        "    \n",
        "    if count == 0:\n",
        "        return 0\n",
        "    \n",
        "    return total_rating / count\n",
        "\n",
        "mean_rating_b = calculate_mean_rating_b(reviews)\n",
        "print(\"Среднее значение рейтинга (метод B):\", mean_rating_b)"
      ],
      "metadata": {
        "colab": {
          "base_uri": "https://localhost:8080/"
        },
        "id": "sd64A55NXbe5",
        "outputId": "83964f55-1025-4979-b53c-0f56afa2d349"
      },
      "execution_count": 15,
      "outputs": [
        {
          "output_type": "stream",
          "name": "stdout",
          "text": [
            "Среднее значение рейтинга (метод B): 4.4544402182900615\n"
          ]
        }
      ]
    },
    {
      "cell_type": "code",
      "source": [
        "%%time\n",
        "calculate_mean_rating_b(reviews)"
      ],
      "metadata": {
        "colab": {
          "base_uri": "https://localhost:8080/"
        },
        "id": "21aG7EvSZ-NQ",
        "outputId": "402f5bd2-8dcd-4385-d74e-c52e7de3325f"
      },
      "execution_count": 16,
      "outputs": [
        {
          "output_type": "stream",
          "name": "stdout",
          "text": [
            "CPU times: user 777 ms, sys: 605 µs, total: 778 ms\n",
            "Wall time: 813 ms\n"
          ]
        },
        {
          "output_type": "execute_result",
          "data": {
            "text/plain": [
              "4.4544402182900615"
            ]
          },
          "metadata": {},
          "execution_count": 16
        }
      ]
    },
    {
      "cell_type": "code",
      "source": [
        "def calculate_mean_rating_c(df):\n",
        "    mean_rating = df[df['date'].dt.year == 2010]['rating'].mean()\n",
        "    \n",
        "    if pd.isnull(mean_rating):\n",
        "        return 0\n",
        "    \n",
        "    return mean_rating\n",
        "\n",
        "mean_rating_c = calculate_mean_rating_c(reviews)\n",
        "print(\"Среднее значение рейтинга (метод C):\", mean_rating_c)"
      ],
      "metadata": {
        "colab": {
          "base_uri": "https://localhost:8080/"
        },
        "id": "kYrdXQNYaA5r",
        "outputId": "34900520-b104-41df-b082-a3d1b38dfd2e"
      },
      "execution_count": 17,
      "outputs": [
        {
          "output_type": "stream",
          "name": "stdout",
          "text": [
            "Среднее значение рейтинга (метод C): 4.4544402182900615\n"
          ]
        }
      ]
    },
    {
      "cell_type": "code",
      "source": [
        "%%time\n",
        "calculate_mean_rating_c(reviews)"
      ],
      "metadata": {
        "colab": {
          "base_uri": "https://localhost:8080/"
        },
        "id": "TanDcwwAaFXT",
        "outputId": "e167d218-3d68-433b-8037-155728f82079"
      },
      "execution_count": 18,
      "outputs": [
        {
          "output_type": "stream",
          "name": "stdout",
          "text": [
            "CPU times: user 22.2 ms, sys: 970 µs, total: 23.1 ms\n",
            "Wall time: 28.1 ms\n"
          ]
        },
        {
          "output_type": "execute_result",
          "data": {
            "text/plain": [
              "4.4544402182900615"
            ]
          },
          "metadata": {},
          "execution_count": 18
        }
      ]
    },
    {
      "cell_type": "markdown",
      "metadata": {
        "id": "4p_UWenWaaqj"
      },
      "source": [
        "2. Какая из созданных функций выполняется медленнее? Что наиболее сильно влияет на скорость выполнения? Для ответа использовать профайлер `line_profiler`. Сохраните результаты работы профайлера в отдельную текстовую ячейку и прокомментируйте результаты его работы.\n",
        "\n",
        "(*). Сможете ли вы ускорить работу функции 1Б, отказавшись от использования метода `iterrows`, но не используя метод `mean`?"
      ]
    },
    {
      "cell_type": "code",
      "execution_count": 28,
      "metadata": {
        "id": "pXNPTGNwaaqj",
        "colab": {
          "base_uri": "https://localhost:8080/"
        },
        "outputId": "cf53faaf-b7af-4323-fb6b-e42addba110e"
      },
      "outputs": [
        {
          "output_type": "stream",
          "name": "stdout",
          "text": [
            "Timer unit: 1e-09 s\n",
            "\n",
            "Total time: 11.6136 s\n",
            "File: <ipython-input-13-e660e5f5c04b>\n",
            "Function: calculate_mean_rating_a at line 1\n",
            "\n",
            "Line #      Hits         Time  Per Hit   % Time  Line Contents\n",
            "==============================================================\n",
            "     1                                           def calculate_mean_rating_a(df):\n",
            "     2         1       1877.0   1877.0      0.0      total_rating = 0\n",
            "     3         1        273.0    273.0      0.0      count = 0\n",
            "     4                                               \n",
            "     5    126696 10085176208.0  79601.4     86.8      for _, row in df.iterrows():\n",
            "     6    114602 1410947010.0  12311.7     12.1          if row['date'].year == 2010:\n",
            "     7     12094  112368209.0   9291.2      1.0              total_rating += row['rating']\n",
            "     8     12094    5103236.0    422.0      0.0              count += 1\n",
            "     9                                               \n",
            "    10         1        347.0    347.0      0.0      if count == 0:\n",
            "    11                                                   return 0\n",
            "    12                                               \n",
            "    13         1       1110.0   1110.0      0.0      return total_rating / count\n",
            "\n",
            "Total time: 0.993895 s\n",
            "File: <ipython-input-15-e2c07de38ea6>\n",
            "Function: calculate_mean_rating_b at line 1\n",
            "\n",
            "Line #      Hits         Time  Per Hit   % Time  Line Contents\n",
            "==============================================================\n",
            "     1                                           def calculate_mean_rating_b(df):\n",
            "     2         1       2729.0   2729.0      0.0      total_rating = 0\n",
            "     3         1        207.0    207.0      0.0      count = 0\n",
            "     4                                               \n",
            "     5     12094  860708684.0  71168.2     86.6      for _, row in df[df['date'].dt.year == 2010].iterrows():\n",
            "     6     12094  129253891.0  10687.4     13.0          total_rating += row['rating']\n",
            "     7     12094    3927918.0    324.8      0.4          count += 1\n",
            "     8                                               \n",
            "     9         1        349.0    349.0      0.0      if count == 0:\n",
            "    10                                                   return 0\n",
            "    11                                               \n",
            "    12         1       1286.0   1286.0      0.0      return total_rating / count\n",
            "\n",
            "Total time: 0.0223393 s\n",
            "File: <ipython-input-17-13f1430a9322>\n",
            "Function: calculate_mean_rating_c at line 1\n",
            "\n",
            "Line #      Hits         Time  Per Hit   % Time  Line Contents\n",
            "==============================================================\n",
            "     1                                           def calculate_mean_rating_c(df):\n",
            "     2         1   22327201.0 22327201.0     99.9      mean_rating = df[df['date'].dt.year == 2010]['rating'].mean()\n",
            "     3                                               \n",
            "     4         1      11934.0  11934.0      0.1      if pd.isnull(mean_rating):\n",
            "     5                                                   return 0\n",
            "     6                                               \n",
            "     7         1        171.0    171.0      0.0      return mean_rating\n",
            "\n"
          ]
        }
      ],
      "source": [
        "import line_profiler\n",
        "profiler = line_profiler.LineProfiler(calculate_mean_rating_a, calculate_mean_rating_b, calculate_mean_rating_c)\n",
        "profiler.enable()\n",
        "\n",
        "mean_rating_a = calculate_mean_rating_a(reviews)\n",
        "mean_rating_b = calculate_mean_rating_b(reviews)\n",
        "mean_rating_c = calculate_mean_rating_c(reviews)\n",
        "\n",
        "profiler.disable()\n",
        "profiler.print_stats()"
      ]
    },
    {
      "cell_type": "markdown",
      "metadata": {
        "id": "_28mBnIvaaqj"
      },
      "source": [
        "3. Вам предлагается воспользоваться функцией, которая собирает статистику о том, сколько отзывов содержат то или иное слово. Измерьте время выполнения этой функции. Сможете ли вы найти узкие места в коде, используя профайлер? Выпишите (словами), что в имеющемся коде реализовано неоптимально. Оптимизируйте функцию и добейтесь значительного (как минимум, на один порядок) прироста в скорости выполнения."
      ]
    },
    {
      "cell_type": "code",
      "source": [
        "def get_word_reviews_count(df):\n",
        "    word_reviews = {}\n",
        "    for _, row in df.dropna(subset=['review']).iterrows():\n",
        "        recipe_id, review = row['recipe_id'], row['review']\n",
        "        words = review.split(' ')\n",
        "        for word in words:\n",
        "            if word not in word_reviews:\n",
        "                word_reviews[word] = []\n",
        "            word_reviews[word].append(recipe_id)\n",
        "    \n",
        "    word_reviews_count = {}\n",
        "    for _, row in df.dropna(subset=['review']).iterrows():\n",
        "        review = row['review']\n",
        "        words = review.split(' ')\n",
        "        for word in words:\n",
        "            word_reviews_count[word] = len(word_reviews[word])\n",
        "    return word_reviews_count"
      ],
      "metadata": {
        "id": "3zE1b8z4bEpl"
      },
      "execution_count": 29,
      "outputs": []
    },
    {
      "cell_type": "code",
      "source": [
        "import cProfile\n",
        "\n",
        "def profile_get_word_reviews_count():\n",
        "    cProfile.run('get_word_reviews_count(reviews)', sort='tottime')\n",
        "\n",
        "profile_get_word_reviews_count()"
      ],
      "metadata": {
        "colab": {
          "base_uri": "https://localhost:8080/"
        },
        "id": "fIc-iUiGbJMf",
        "outputId": "6a8231ee-f8c7-41fa-cb54-8e300793322e"
      },
      "execution_count": 30,
      "outputs": [
        {
          "output_type": "stream",
          "name": "stdout",
          "text": [
            "         52986037 function calls (51972523 primitive calls) in 49.753 seconds\n",
            "\n",
            "   Ordered by: internal time\n",
            "\n",
            "   ncalls  tottime  percall  cumtime  percall filename:lineno(function)\n",
            "        1   11.613   11.613   49.620   49.620 <ipython-input-29-b1bc049bcd0c>:1(get_word_reviews_count)\n",
            "   253364    2.862    0.000   25.546    0.000 series.py:342(__init__)\n",
            "10846018/9832522    1.990    0.000    2.408    0.000 {built-in method builtins.len}\n",
            "8995349/8995343    1.882    0.000    2.757    0.000 {built-in method builtins.isinstance}\n",
            "   253364    1.613    0.000    7.110    0.000 construction.py:493(sanitize_array)\n",
            "   253376    1.577    0.000    3.792    0.000 generic.py:5904(__setattr__)\n",
            "  6792020    1.372    0.000    1.372    0.000 {method 'append' of 'list' objects}\n",
            "   506720    1.237    0.000    1.237    0.000 {method 'split' of 'str' objects}\n",
            "   253372    1.203    0.000    1.846    0.000 generic.py:5844(__finalize__)\n",
            "   380037    1.200    0.000    5.712    0.000 series.py:966(__getitem__)\n",
            "   253358    1.179    0.000    2.024    0.000 cast.py:1178(maybe_infer_to_datetimelike)\n",
            "   253360    1.034    0.000   28.720    0.000 frame.py:1366(iterrows)\n",
            "   253370    0.880    0.000    3.150    0.000 blocks.py:2172(new_block)\n",
            "   253376    0.807    0.000    1.085    0.000 generic.py:259(__init__)\n",
            "   253364    0.673    0.000    2.786    0.000 construction.py:744(_try_cast)\n",
            "   380047    0.672    0.000    0.775    0.000 managers.py:2069(internal_values)\n",
            "   380037    0.624    0.000    3.314    0.000 series.py:1072(_get_value)\n",
            "   253362    0.618    0.000    1.629    0.000 config.py:116(_get_single_key)\n",
            "   380037    0.570    0.000    1.657    0.000 base.py:5934(_get_values_for_loc)\n",
            "   253358    0.563    0.000    0.563    0.000 {pandas._libs.lib.infer_datetimelike_array}\n",
            "   380037    0.530    0.000    1.034    0.000 base.py:3754(get_loc)\n",
            "   253360    0.525    0.000    4.508    0.000 managers.py:1934(from_array)\n",
            "   253366    0.521    0.000    0.878    0.000 series.py:611(name)\n",
            "   253372    0.510    0.000    0.664    0.000 blocks.py:2120(get_block_type)\n",
            "   253374    0.471    0.000    0.852    0.000 blocks.py:2091(maybe_coerce_values)\n",
            "   253366    0.469    0.000    1.337    0.000 series.py:661(name)\n",
            "   253360    0.458    0.000    1.624    0.000 series.py:565(_set_axis)\n",
            "   506724    0.454    0.000    0.454    0.000 config.py:611(_get_deprecated_option)\n",
            "   253364    0.435    0.000    0.545    0.000 managers.py:1891(__init__)\n",
            "   380037    0.429    0.000    0.429    0.000 {method 'get_loc' of 'pandas._libs.index.IndexEngine' objects}\n",
            "  1013470    0.418    0.000    0.584    0.000 base.py:925(__len__)\n",
            "   380041    0.415    0.000    0.658    0.000 indexing.py:2656(check_deprecated_indexers)\n",
            "   253370    0.409    0.000    0.696    0.000 blocks.py:2186(check_ndim)\n",
            "   253362    0.406    0.000    0.509    0.000 config.py:597(_get_root)\n",
            "   760226    0.382    0.000    0.875    0.000 generic.py:45(_instancecheck)\n",
            "   760226    0.365    0.000    0.494    0.000 generic.py:40(_check)\n",
            "   253368    0.357    0.000    0.357    0.000 generic.py:5888(__getattr__)\n",
            "   253362    0.331    0.000    2.469    0.000 config.py:134(_get_option)\n",
            "   253376    0.278    0.000    0.278    0.000 flags.py:49(__init__)\n",
            "   253364    0.277    0.000    0.565    0.000 construction.py:676(_sanitize_ndim)\n",
            "   506740    0.273    0.000    0.405    0.000 inference.py:325(is_hashable)\n",
            "   253372    0.266    0.000    0.266    0.000 flags.py:85(allows_duplicate_labels)\n",
            "   253366    0.261    0.000    0.868    0.000 common.py:1725(validate_all_hashable)\n",
            "   253360    0.256    0.000    0.430    0.000 construction.py:861(is_empty_data)\n",
            "   253360    0.255    0.000    0.785    0.000 base.py:58(_validate_set_axis)\n",
            "   380047    0.237    0.000    1.012    0.000 series.py:708(_values)\n",
            "   253386    0.234    0.000    0.262    0.000 construction.py:461(ensure_wrapped_if_datetimelike)\n",
            "   506726    0.230    0.000    0.325    0.000 base.py:7277(ensure_index)\n",
            "   253360    0.229    0.000    1.014    0.000 managers.py:228(set_axis)\n",
            "   506732    0.226    0.000    0.409    0.000 common.py:1744(<genexpr>)\n",
            "   253362    0.223    0.000    2.692    0.000 config.py:262(__call__)\n",
            "        2    0.220    0.110    0.220    0.110 {pandas._libs.tslibs.vectorized.ints_to_pydatetime}\n",
            "   253368    0.218    0.000    1.515    0.000 construction.py:399(extract_array)\n",
            "   253368    0.203    0.000    0.425    0.000 base.py:7372(maybe_extract_name)\n",
            "  1013646    0.199    0.000    0.199    0.000 {built-in method builtins.getattr}\n",
            "   253376    0.198    0.000    0.607    0.000 {built-in method builtins.all}\n",
            "   253364    0.190    0.000    0.242    0.000 construction.py:713(_sanitize_str_dtypes)\n",
            "   380041    0.187    0.000    0.254    0.000 common.py:362(apply_if_callable)\n",
            "   760104    0.181    0.000    0.181    0.000 {pandas._libs.lib.is_list_like}\n",
            "   253364    0.179    0.000    0.218    0.000 construction.py:733(_maybe_repeat)\n",
            "   253360    0.172    0.000    0.497    0.000 common.py:566(require_length_match)\n",
            "   253362    0.170    0.000    0.468    0.000 config.py:650(_warn_if_deprecated)\n",
            "   760079    0.163    0.000    0.163    0.000 {pandas._libs.lib.is_integer}\n",
            "   253362    0.163    0.000    0.163    0.000 config.py:579(_select_options)\n",
            "   253362    0.160    0.000    0.160    0.000 {built-in method numpy.array}\n",
            "   253362    0.138    0.000    0.295    0.000 config.py:638(_translate_key)\n",
            "        1    0.134    0.134   49.753   49.753 <string>:1(<module>)\n",
            "   506740    0.132    0.000    0.132    0.000 {built-in method builtins.hash}\n",
            "   506744    0.126    0.000    0.126    0.000 generic.py:353(flags)\n",
            "   253372    0.123    0.000    0.123    0.000 generic.py:332(attrs)\n",
            "   506728    0.116    0.000    0.116    0.000 typing.py:1737(cast)\n",
            "   253380    0.110    0.000    0.110    0.000 managers.py:2433(_using_copy_on_write)\n",
            "   253376    0.105    0.000    0.169    0.000 common.py:1420(is_1d_only_ea_dtype)\n",
            "   253362    0.103    0.000    0.103    0.000 managers.py:2009(_block)\n",
            "   380079    0.100    0.000    0.100    0.000 {pandas._libs.lib.is_scalar}\n",
            "   506836    0.092    0.000    0.092    0.000 {built-in method builtins.issubclass}\n",
            "   253408    0.092    0.000    0.092    0.000 {built-in method builtins.hasattr}\n",
            "   380037    0.075    0.000    0.075    0.000 base.py:6569(_maybe_cast_indexer)\n",
            "        2    0.071    0.035    0.071    0.035 {pandas._libs.missing.isnaobj2d}\n",
            "   253372    0.068    0.000    0.068    0.000 flags.py:53(allows_duplicate_labels)\n",
            "   380047    0.067    0.000    0.067    0.000 {built-in method builtins.callable}\n",
            "   253360    0.057    0.000    0.057    0.000 {pandas._libs.algos.ensure_object}\n",
            "       10    0.034    0.003    0.034    0.003 {method 'astype' of 'numpy.ndarray' objects}\n",
            "        2    0.025    0.012    0.291    0.145 managers.py:1782(_interleave)\n",
            "        2    0.024    0.012    0.024    0.012 {pandas._libs.algos.take_2d_axis1_object_object}\n",
            "        2    0.013    0.007    0.013    0.007 {pandas._libs.algos.take_2d_axis0_object_object}\n",
            "       24    0.013    0.001    0.013    0.001 {built-in method numpy.empty}\n",
            "        2    0.005    0.002    0.143    0.071 _decorators.py:323(wrapper)\n",
            "        2    0.004    0.002    0.295    0.147 managers.py:1721(as_array)\n",
            "        2    0.004    0.002    0.004    0.002 {method 'get_indexer' of 'pandas._libs.index.IndexEngine' objects}\n",
            "        2    0.003    0.001    0.003    0.001 {pandas._libs.algos.take_2d_axis1_int64_int64}\n",
            "        6    0.002    0.000    0.002    0.000 {method 'take' of 'numpy.ndarray' objects}\n",
            "        2    0.001    0.001    0.001    0.001 {pandas._libs.algos.take_2d_axis0_int64_int64}\n",
            "       24    0.001    0.000    0.001    0.000 {method 'reduce' of 'numpy.ufunc' objects}\n",
            "        2    0.001    0.001    0.005    0.003 base.py:3975(_get_indexer)\n",
            "        2    0.001    0.001    0.001    0.001 {method 'nonzero' of 'numpy.ndarray' objects}\n",
            "        4    0.001    0.000    0.001    0.000 utils.py:243(maybe_convert_indices)\n",
            "        2    0.001    0.000    0.221    0.110 datetimelike.py:425(astype)\n",
            "        2    0.000    0.000    0.000    0.000 {built-in method numpy.arange}\n",
            "        8    0.000    0.000    0.001    0.000 blocks.py:221(make_block)\n",
            "        2    0.000    0.000    0.071    0.036 missing.py:309(_isna_string_dtype)\n",
            "        6    0.000    0.000    0.001    0.000 {pandas._libs.lib.maybe_convert_objects}\n",
            "        2    0.000    0.000    0.026    0.013 managers.py:774(_slice_take_blocks_ax0)\n",
            "        2    0.000    0.000    0.138    0.069 frame.py:6424(dropna)\n",
            "        8    0.000    0.000    0.001    0.000 base.py:494(find)\n",
            "      8/4    0.000    0.000    0.002    0.000 base.py:430(__new__)\n",
            "       12    0.000    0.000    0.044    0.004 take.py:120(_take_nd_ndarray)\n",
            "       12    0.000    0.000    0.000    0.000 take.py:554(_take_preprocess_indexer_and_fill_value)\n",
            "        2    0.000    0.000    0.000    0.000 {built-in method _operator.invert}\n",
            "        8    0.000    0.000    0.045    0.006 blocks.py:861(take_nd)\n",
            "    14/12    0.000    0.000    0.045    0.004 take.py:57(take_nd)\n",
            "        2    0.000    0.000    0.005    0.003 frame.py:10773(_reduce)\n",
            "        6    0.000    0.000    0.073    0.012 managers.py:301(apply)\n",
            "        6    0.000    0.000    0.000    0.000 {method 'copy' of 'numpy.ndarray' objects}\n",
            "        8    0.000    0.000    0.000    0.000 common.py:235(asarray_tuplesafe)\n",
            "        4    0.000    0.000    0.046    0.012 managers.py:689(reindex_indexer)\n",
            "        4    0.000    0.000    0.006    0.001 generic.py:11108(_logical_func)\n",
            "        3    0.000    0.000    0.000    0.000 {pandas._libs.lib.infer_dtype}\n",
            "       12    0.000    0.000    0.001    0.000 frame.py:609(__init__)\n",
            "       18    0.000    0.000    0.000    0.000 common.py:1751(pandas_dtype)\n",
            "    14/12    0.000    0.000    0.072    0.006 missing.py:191(_isna)\n",
            "        4    0.000    0.000    0.050    0.013 generic.py:3873(_take)\n",
            "        4    0.000    0.000    0.050    0.012 managers.py:944(take)\n",
            "    42/40    0.000    0.000    0.000    0.000 {built-in method numpy.asarray}\n",
            "        4    0.000    0.000    0.002    0.001 base.py:1168(take)\n",
            "       18    0.000    0.000    0.000    0.000 common.py:585(is_dtype_equal)\n",
            "        8    0.000    0.000    0.000    0.000 blocks.py:236(make_block_same_class)\n",
            "       10    0.000    0.000    0.000    0.000 managers.py:1061(from_blocks)\n",
            "       11    0.000    0.000    0.001    0.000 {built-in method numpy.core._multiarray_umath.implement_array_function}\n",
            "       14    0.000    0.000    0.000    0.000 base.py:54(shape)\n",
            "        2    0.000    0.000    0.007    0.004 base.py:3888(get_indexer)\n",
            "        4    0.000    0.000    0.000    0.000 numerictypes.py:573(_can_coerce_all)\n",
            "       44    0.000    0.000    0.000    0.000 base.py:229(construct_from_string)\n",
            "        6    0.000    0.000    0.000    0.000 numeric.py:289(full)\n",
            "        2    0.000    0.000    0.000    0.000 construction.py:272(ndarray_to_mgr)\n",
            "        2    0.000    0.000    0.001    0.001 frame.py:3565(transpose)\n",
            "       48    0.000    0.000    0.000    0.000 common.py:1591(_is_dtype_type)\n",
            "        7    0.000    0.000    0.000    0.000 cast.py:574(_maybe_promote)\n",
            "        4    0.000    0.000    0.000    0.000 base.py:5464(equals)\n",
            "        7    0.000    0.000    0.000    0.000 _dtype.py:328(_name_get)\n",
            "        4    0.000    0.000    0.000    0.000 base.py:742(__iter__)\n",
            "        2    0.000    0.000    0.002    0.001 _mixins.py:154(take)\n",
            "        2    0.000    0.000    0.002    0.001 generic.py:6076(astype)\n",
            "        2    0.000    0.000    0.000    0.000 cast.py:1589(find_common_type)\n",
            "        2    0.000    0.000    0.221    0.110 datetimes.py:599(astype)\n",
            "        2    0.000    0.000    0.001    0.001 base.py:708(_with_infer)\n",
            "        6    0.000    0.000    0.004    0.001 algorithms.py:1484(take)\n",
            "        4    0.000    0.000    0.026    0.006 indexing.py:1059(__getitem__)\n",
            "        8    0.000    0.000    0.000    0.000 base.py:690(_simple_new)\n",
            "        2    0.000    0.000    0.020    0.010 managers.py:751(<listcomp>)\n",
            "       56    0.000    0.000    0.000    0.000 common.py:1556(get_dtype)\n",
            "        4    0.000    0.000    0.001    0.000 base.py:7396(_maybe_cast_data_without_dtype)\n",
            "        4    0.000    0.000    0.000    0.000 nanops.py:261(_get_values)\n",
            "        2    0.000    0.000    0.000    0.000 {built-in method pandas._libs.lib.is_datetime_array}\n",
            "        4    0.000    0.000    0.000    0.000 cast.py:1763(construct_1d_object_array_from_listlike)\n",
            "        4    0.000    0.000    0.000    0.000 {pandas._libs.algos.take_1d_int64_int64}\n",
            "        4    0.000    0.000    0.001    0.000 fromnumeric.py:69(_wrapreduction)\n",
            "       18    0.000    0.000    0.000    0.000 common.py:1278(is_bool_dtype)\n",
            "        2    0.000    0.000    0.001    0.000 generic.py:1516(__invert__)\n",
            "        1    0.000    0.000   49.753   49.753 {built-in method builtins.exec}\n",
            "       14    0.000    0.000    0.000    0.000 cast.py:527(maybe_promote)\n",
            "        2    0.000    0.000    0.221    0.110 blocks.py:1598(get_values)\n",
            "       12    0.000    0.000    0.000    0.000 take.py:326(_get_take_nd_function)\n",
            "        8    0.000    0.000    0.000    0.000 generic.py:5959(_protect_consolidate)\n",
            "       24    0.000    0.000    0.000    0.000 common.py:162(is_object_dtype)\n",
            "       12    0.000    0.000    0.000    0.000 _methods.py:54(_any)\n",
            "        2    0.000    0.000    0.002    0.001 managers.py:1546(reduce)\n",
            "        2    0.000    0.000    0.000    0.000 managers.py:1860(<listcomp>)\n",
            "       12    0.000    0.000    0.000    0.000 generic.py:564(_get_axis)\n",
            "        4    0.000    0.000    0.034    0.008 blocks.py:1912(get_values)\n",
            "        2    0.000    0.000    0.000    0.000 {method '_rebuild_blknos_and_blklocs' of 'pandas._libs.internals.BlockManager' objects}\n",
            "        6    0.000    0.000    0.000    0.000 <__array_function__ internals>:177(copyto)\n",
            "        2    0.000    0.000    0.072    0.036 frame.py:6377(isna)\n",
            "       22    0.000    0.000    0.000    0.000 range.py:946(__len__)\n",
            "        4    0.000    0.000    0.000    0.000 dtypes.py:1185(construct_from_string)\n",
            "        2    0.000    0.000    0.000    0.000 take.py:288(_get_take_nd_function_cached)\n",
            "        2    0.000    0.000    0.000    0.000 frame.py:3703(_ixs)\n",
            "       16    0.000    0.000    0.000    0.000 common.py:1487(is_ea_or_datetimelike_dtype)\n",
            "        9    0.000    0.000    0.000    0.000 missing.py:699(is_valid_na_for_dtype)\n",
            "        2    0.000    0.000    0.001    0.001 take.py:350(wrapper)\n",
            "        2    0.000    0.000    0.000    0.000 series.py:4773(_reduce)\n",
            "        6    0.000    0.000    0.000    0.000 missing.py:645(na_value_for_dtype)\n",
            "       38    0.000    0.000    0.000    0.000 numerictypes.py:582(<listcomp>)\n",
            "        6    0.000    0.000    0.000    0.000 {method 'view' of 'numpy.ndarray' objects}\n",
            "        8    0.000    0.000    0.000    0.000 generic.py:5977(f)\n",
            "        2    0.000    0.000    0.007    0.004 base.py:6032(get_indexer_for)\n",
            "        2    0.000    0.000    0.000    0.000 indexing.py:1592(_getitem_axis)\n",
            "        4    0.000    0.000    0.072    0.018 blocks.py:345(apply)\n",
            "        2    0.000    0.000    0.000    0.000 base.py:2752(_is_all_dates)\n",
            "       12    0.000    0.000    0.000    0.000 {method 'any' of 'numpy.ndarray' objects}\n",
            "       10    0.000    0.000    0.000    0.000 <frozen importlib._bootstrap>:1053(_handle_fromlist)\n",
            "        4    0.000    0.000    0.000    0.000 _ufunc_config.py:32(seterr)\n",
            "        2    0.000    0.000    0.000    0.000 datetimes.py:449(_unbox_scalar)\n",
            "       10    0.000    0.000    0.000    0.000 common.py:1246(is_float_dtype)\n",
            "        2    0.000    0.000    0.000    0.000 warnings.py:130(filterwarnings)\n",
            "        2    0.000    0.000    0.001    0.000 <__array_function__ internals>:177(all)\n",
            "        6    0.000    0.000    0.000    0.000 warnings.py:458(__enter__)\n",
            "        8    0.000    0.000    0.000    0.000 generic.py:5973(_consolidate_inplace)\n",
            "        6    0.000    0.000    0.000    0.000 warnings.py:181(_add_filter)\n",
            "        2    0.000    0.000    0.000    0.000 generic.py:687(size)\n",
            "        2    0.000    0.000    0.000    0.000 managers.py:2407(_preprocess_slice_or_indexer)\n",
            "        2    0.000    0.000    0.000    0.000 {method 'get' of 'dict' objects}\n",
            "        2    0.000    0.000    0.000    0.000 datetimelike.py:2012(_reso)\n",
            "        2    0.000    0.000    0.073    0.036 missing.py:357(notna)\n",
            "        2    0.000    0.000    0.025    0.013 indexing.py:1087(_getbool_axis)\n",
            "        6    0.000    0.000    0.000    0.000 managers.py:1854(_consolidate_check)\n",
            "        2    0.000    0.000    0.000    0.000 blocks.py:355(reduce)\n",
            "        4    0.000    0.000    0.000    0.000 blocks.py:376(_split_op_result)\n",
            "        2    0.000    0.000    0.000    0.000 managers.py:1078(fast_xs)\n",
            "        2    0.000    0.000    0.000    0.000 utils.py:430(check_array_indexer)\n",
            "        2    0.000    0.000    0.025    0.013 indexing.py:1276(_getitem_axis)\n",
            "        2    0.000    0.000    0.001    0.000 generic.py:6045(dtypes)\n",
            "        4    0.000    0.000    0.000    0.000 dtype.py:216(construct_from_string)\n",
            "        8    0.000    0.000    0.000    0.000 common.py:319(is_datetime64_dtype)\n",
            "       14    0.000    0.000    0.000    0.000 base.py:286(is_dtype)\n",
            "        2    0.000    0.000    0.000    0.000 astype.py:192(astype_array)\n",
            "        2    0.000    0.000    0.000    0.000 numerictypes.py:356(issubdtype)\n",
            "        6    0.000    0.000    0.000    0.000 blocks.py:823(shape)\n",
            "        4    0.000    0.000    0.000    0.000 base.py:588(_dtype_to_subclass)\n",
            "        4    0.000    0.000    0.006    0.001 generic.py:11178(all)\n",
            "        2    0.000    0.000    0.000    0.000 astype.py:239(astype_array_safe)\n",
            "        2    0.000    0.000    0.000    0.000 common.py:1403(is_1d_only_ea_obj)\n",
            "        2    0.000    0.000    0.001    0.000 utils.py:191(validate_indices)\n",
            "       34    0.000    0.000    0.000    0.000 common.py:146(classes)\n",
            "        6    0.000    0.000    0.000    0.000 {method 'remove' of 'list' objects}\n",
            "       33    0.000    0.000    0.000    0.000 base.py:5090(_values)\n",
            "        6    0.000    0.000    0.000    0.000 warnings.py:437(__init__)\n",
            "        2    0.000    0.000    0.024    0.012 generic.py:3894(_take_with_is_copy)\n",
            "       42    0.000    0.000    0.000    0.000 base.py:56(<genexpr>)\n",
            "        2    0.000    0.000    0.000    0.000 base.py:6285(_should_compare)\n",
            "       22    0.000    0.000    0.000    0.000 generic.py:550(_get_axis_number)\n",
            "        4    0.000    0.000    0.000    0.000 {method 'reshape' of 'numpy.ndarray' objects}\n",
            "       10    0.000    0.000    0.001    0.000 common.py:1433(is_extension_array_dtype)\n",
            "        2    0.000    0.000    0.026    0.013 generic.py:3778(take)\n",
            "        2    0.000    0.000    0.000    0.000 {pandas._libs.internals.get_blkno_placements}\n",
            "        2    0.000    0.000    0.071    0.036 missing.py:268(_isna_array)\n",
            "        4    0.000    0.000    0.000    0.000 nanops.py:542(nanall)\n",
            "        4    0.000    0.000    0.000    0.000 common.py:96(is_bool_indexer)\n",
            "        2    0.000    0.000    0.001    0.000 blocks.py:504(astype)\n",
            "       10    0.000    0.000    0.000    0.000 managers.py:1846(is_consolidated)\n",
            "        4    0.000    0.000    0.000    0.000 dtypes.py:913(construct_from_string)\n",
            "        6    0.000    0.000    0.000    0.000 blocks.py:2250(extend_blocks)\n",
            "       12    0.000    0.000    0.000    0.000 inference.py:188(is_array_like)\n",
            "        2    0.000    0.000    0.000    0.000 construction.py:540(_prep_ndarraylike)\n",
            "    14/12    0.000    0.000    0.072    0.006 missing.py:108(isna)\n",
            "        6    0.000    0.000    0.000    0.000 _validators.py:226(validate_bool_kwarg)\n",
            "        2    0.000    0.000    0.000    0.000 {built-in method numpy.zeros}\n",
            "        4    0.000    0.000    0.000    0.000 dtype.py:125(construct_from_string)\n",
            "        4    0.000    0.000    0.000    0.000 _ufunc_config.py:131(geterr)\n",
            "        4    0.000    0.000    0.000    0.000 dtypes.py:754(construct_from_string)\n",
            "        2    0.000    0.000    0.000    0.000 indexing.py:139(iloc)\n",
            "        8    0.000    0.000    0.000    0.000 managers.py:673(consolidate)\n",
            "        2    0.000    0.000    0.072    0.036 base.py:141(isna)\n",
            "        2    0.000    0.000    0.000    0.000 indexing.py:2522(check_bool_indexer)\n",
            "        2    0.000    0.000    0.000    0.000 datetimelike.py:637(_validate_scalar)\n",
            "        2    0.000    0.000    0.000    0.000 re.py:288(_compile)\n",
            "        6    0.000    0.000    0.000    0.000 blocks.py:213(mgr_locs)\n",
            "        4    0.000    0.000    0.006    0.001 generic.py:11618(all)\n",
            "        2    0.000    0.000    0.295    0.147 frame.py:11664(values)\n",
            "        8    0.000    0.000    0.000    0.000 function.py:56(__call__)\n",
            "        2    0.000    0.000    0.000    0.000 dtypes.py:977(is_dtype)\n",
            "        2    0.000    0.000    0.000    0.000 common.py:463(is_interval_dtype)\n",
            "       16    0.000    0.000    0.000    0.000 common.py:1154(needs_i8_conversion)\n",
            "        2    0.000    0.000    0.000    0.000 managers.py:271(get_dtypes)\n",
            "       34    0.000    0.000    0.000    0.000 common.py:148(<lambda>)\n",
            "        4    0.000    0.000    0.000    0.000 string_.py:118(construct_from_string)\n",
            "        6    0.000    0.000    0.000    0.000 managers.py:172(blknos)\n",
            "        7    0.000    0.000    0.000    0.000 _dtype.py:314(_name_includes_bit_suffix)\n",
            "        2    0.000    0.000    0.000    0.000 fromnumeric.py:2970(prod)\n",
            "        2    0.000    0.000    0.000    0.000 managers.py:272(<listcomp>)\n",
            "        4    0.000    0.000    0.000    0.000 dtypes.py:303(construct_from_string)\n",
            "       10    0.000    0.000    0.000    0.000 {built-in method pandas._libs.missing.checknull}\n",
            "        2    0.000    0.000    0.000    0.000 common.py:192(all_none)\n",
            "        2    0.000    0.000    0.000    0.000 base.py:6205(_maybe_promote)\n",
            "       28    0.000    0.000    0.000    0.000 datetimes.py:495(dtype)\n",
            "        2    0.000    0.000    0.000    0.000 frame.py:934(_can_fast_transpose)\n",
            "        2    0.000    0.000    0.000    0.000 base.py:4020(_check_indexing_method)\n",
            "        2    0.000    0.000    0.000    0.000 missing.py:910(clean_reindex_fill_method)\n",
            "        2    0.000    0.000    0.000    0.000 dtypes.py:1247(is_dtype)\n",
            "        2    0.000    0.000    0.001    0.001 frame.py:3696(T)\n",
            "        4    0.000    0.000    0.000    0.000 base.py:2421(is_boolean)\n",
            "        4    0.000    0.000    0.000    0.000 generic.py:4114(_set_is_copy)\n",
            "       14    0.000    0.000    0.000    0.000 managers.py:2058(dtype)\n",
            "        4    0.000    0.000    0.000    0.000 base.py:6193(_index_as_unique)\n",
            "        2    0.000    0.000    0.000    0.000 base.py:5116(_get_engine_target)\n",
            "        1    0.000    0.000    0.000    0.000 cast.py:714(_ensure_dtype_type)\n",
            "        4    0.000    0.000    0.000    0.000 missing.py:460(array_equivalent)\n",
            "        2    0.000    0.000    0.000    0.000 indexing.py:662(__call__)\n",
            "        2    0.000    0.000    0.000    0.000 {pandas._libs.lib.dtypes_all_equal}\n",
            "        4    0.000    0.000    0.000    0.000 generic.py:570(_get_block_manager_axis)\n",
            "        2    0.000    0.000    0.000    0.000 missing.py:107(clean_fill_method)\n",
            "        2    0.000    0.000    0.000    0.000 _validators.py:141(validate_kwargs)\n",
            "        2    0.000    0.000    0.000    0.000 frame.py:951(_values)\n",
            "        2    0.000    0.000    0.000    0.000 base.py:5304(__getitem__)\n",
            "        8    0.000    0.000    0.000    0.000 base.py:870(_reset_identity)\n",
            "        2    0.000    0.000    0.001    0.000 fromnumeric.py:2404(all)\n",
            "       12    0.000    0.000    0.000    0.000 frame.py:600(_constructor)\n",
            "        1    0.000    0.000    0.000    0.000 base.py:2801(_na_value)\n",
            "        4    0.000    0.000    0.000    0.000 {method 'max' of 'numpy.ndarray' objects}\n",
            "        4    0.000    0.000    0.000    0.000 base.py:2783(_is_multi)\n",
            "        2    0.000    0.000    0.000    0.000 numerictypes.py:597(find_common_type)\n",
            "        4    0.000    0.000    0.000    0.000 warnings.py:165(simplefilter)\n",
            "       20    0.000    0.000    0.000    0.000 {pandas._libs.algos.ensure_platform_int}\n",
            "        2    0.000    0.000    0.000    0.000 managers.py:2156(create_block_manager_from_blocks)\n",
            "        4    0.000    0.000    0.000    0.000 common.py:790(is_unsigned_integer_dtype)\n",
            "        2    0.000    0.000    0.000    0.000 _ufunc_config.py:429(__enter__)\n",
            "        2    0.000    0.000    0.001    0.000 managers.py:447(astype)\n",
            "        4    0.000    0.000    0.000    0.000 {method 'match' of 're.Pattern' objects}\n",
            "       10    0.000    0.000    0.000    0.000 blocks.py:500(dtype)\n",
            "        8    0.000    0.000    0.000    0.000 common.py:501(is_categorical_dtype)\n",
            "        4    0.000    0.000    0.000    0.000 {method 'all' of 'numpy.ndarray' objects}\n",
            "        2    0.000    0.000    0.000    0.000 construction.py:231(mgr_to_mgr)\n",
            "        2    0.000    0.000    0.000    0.000 {pandas._libs.lib.is_all_arraylike}\n",
            "        2    0.000    0.000    0.000    0.000 common.py:427(is_period_dtype)\n",
            "        4    0.000    0.000    0.000    0.000 {built-in method numpy.seterrobj}\n",
            "        2    0.000    0.000    0.000    0.000 <__array_function__ internals>:177(prod)\n",
            "        6    0.000    0.000    0.000    0.000 warnings.py:477(__exit__)\n",
            "        4    0.000    0.000    0.000    0.000 cast.py:1630(<genexpr>)\n",
            "        2    0.000    0.000    0.000    0.000 _validators.py:128(_check_for_invalid_keys)\n",
            "        4    0.000    0.000    0.000    0.000 common.py:684(is_integer_dtype)\n",
            "        2    0.000    0.000    0.000    0.000 frame.py:10819(blk_func)\n",
            "       14    0.000    0.000    0.000    0.000 series.py:596(dtype)\n",
            "        6    0.000    0.000    0.000    0.000 managers.py:275(arrays)\n",
            "        2    0.000    0.000    0.000    0.000 construction.py:405(_check_values_indices_shape_match)\n",
            "        2    0.000    0.000    0.000    0.000 {method '_from_backing_data' of 'pandas._libs.arrays.NDArrayBacked' objects}\n",
            "        2    0.000    0.000    0.000    0.000 {method 'min' of 'numpy.ndarray' objects}\n",
            "       12    0.000    0.000    0.000    0.000 managers.py:997(__init__)\n",
            "        6    0.000    0.000    0.000    0.000 cast.py:508(ensure_dtype_can_hold_na)\n",
            "        2    0.000    0.000    0.000    0.000 range.py:353(dtype)\n",
            "        4    0.000    0.000    0.000    0.000 nanops.py:350(_na_ok_dtype)\n",
            "        2    0.000    0.000    0.000    0.000 frame.py:874(shape)\n",
            "        4    0.000    0.000    0.000    0.000 base.py:839(is_)\n",
            "        6    0.000    0.000    0.000    0.000 multiarray.py:1071(copyto)\n",
            "        2    0.000    0.000    0.000    0.000 inference.py:266(is_dict_like)\n",
            "        2    0.000    0.000    0.002    0.001 base.py:6576(_maybe_cast_listlike_indexer)\n",
            "        4    0.000    0.000    0.000    0.000 nanops.py:217(_maybe_get_mask)\n",
            "        4    0.000    0.000    0.000    0.000 {built-in method numpy.asanyarray}\n",
            "        2    0.000    0.000    0.000    0.000 {method 'transpose' of 'numpy.ndarray' objects}\n",
            "       14    0.000    0.000    0.000    0.000 common.py:151(classes_and_not_datetimelike)\n",
            "        4    0.000    0.000    0.000    0.000 cast.py:1628(<genexpr>)\n",
            "        2    0.000    0.000    0.000    0.000 managers.py:1917(from_blocks)\n",
            "        7    0.000    0.000    0.000    0.000 _dtype.py:24(_kind_name)\n",
            "        2    0.000    0.000    0.000    0.000 common.py:1204(is_numeric_dtype)\n",
            "        2    0.000    0.000    0.000    0.000 frame.py:1498(__len__)\n",
            "        2    0.000    0.000    0.000    0.000 types.py:176(__get__)\n",
            "        4    0.000    0.000    0.000    0.000 _methods.py:60(_all)\n",
            "        2    0.000    0.000    0.000    0.000 construction.py:739(_get_axes)\n",
            "        2    0.000    0.000    0.000    0.000 common.py:352(is_datetime64tz_dtype)\n",
            "        8    0.000    0.000    0.000    0.000 {built-in method __new__ of type object at 0x95cbc0}\n",
            "        2    0.000    0.000    0.000    0.000 common.py:929(is_datetime64_ns_dtype)\n",
            "       14    0.000    0.000    0.000    0.000 common.py:156(<lambda>)\n",
            "        6    0.000    0.000    0.000    0.000 {method 'insert' of 'list' objects}\n",
            "        2    0.000    0.000    0.000    0.000 generic.py:445(_validate_dtype)\n",
            "        4    0.000    0.000    0.000    0.000 _methods.py:38(_amax)\n",
            "        8    0.000    0.000    0.000    0.000 datetimes.py:520(tz)\n",
            "        2    0.000    0.000    0.000    0.000 datetimelike.py:295(asi8)\n",
            "        2    0.000    0.000    0.000    0.000 indexing.py:1539(_validate_integer)\n",
            "        2    0.000    0.000    0.000    0.000 base.py:210(interleaved_dtype)\n",
            "        3    0.000    0.000    0.000    0.000 base.py:2745(inferred_type)\n",
            "        2    0.000    0.000    0.000    0.000 blocks.py:827(iget)\n",
            "        2    0.000    0.000    0.000    0.000 numerictypes.py:649(<listcomp>)\n",
            "        2    0.000    0.000    0.000    0.000 {built-in method _abc._abc_instancecheck}\n",
            "        4    0.000    0.000    0.000    0.000 common.py:736(is_signed_integer_dtype)\n",
            "        2    0.000    0.000    0.000    0.000 frame.py:11036(_get_agg_axis)\n",
            "        9    0.000    0.000    0.000    0.000 {pandas._libs.lib.is_bool}\n",
            "        4    0.000    0.000    0.000    0.000 fromnumeric.py:70(<dictcomp>)\n",
            "       12    0.000    0.000    0.000    0.000 {method 'startswith' of 'str' objects}\n",
            "        2    0.000    0.000    0.000    0.000 abc.py:117(__instancecheck__)\n",
            "        2    0.000    0.000    0.000    0.000 {built-in method builtins.max}\n",
            "       18    0.000    0.000    0.000    0.000 {built-in method _warnings._filters_mutated}\n",
            "        6    0.000    0.000    0.000    0.000 base.py:986(dtype)\n",
            "        4    0.000    0.000    0.000    0.000 numerictypes.py:282(issubclass_)\n",
            "        4    0.000    0.000    0.000    0.000 {method 'search' of 're.Pattern' objects}\n",
            "        4    0.000    0.000    0.000    0.000 {built-in method builtins.any}\n",
            "        2    0.000    0.000    0.000    0.000 _ufunc_config.py:434(__exit__)\n",
            "        8    0.000    0.000    0.000    0.000 {pandas._libs.lib.is_iterator}\n",
            "        8    0.000    0.000    0.000    0.000 cast.py:1635(<genexpr>)\n",
            "        4    0.000    0.000    0.000    0.000 {method 'endswith' of 'str' objects}\n",
            "        2    0.000    0.000    0.000    0.000 re.py:249(compile)\n",
            "        2    0.000    0.000    0.000    0.000 common.py:537(is_string_or_object_np_dtype)\n",
            "        8    0.000    0.000    0.000    0.000 cast.py:1619(<genexpr>)\n",
            "        8    0.000    0.000    0.000    0.000 {built-in method numpy.geterrobj}\n",
            "        2    0.000    0.000    0.000    0.000 common.py:651(resolve_numeric_only)\n",
            "        2    0.000    0.000    0.000    0.000 {pandas._libs.tslibs.np_datetime.py_get_unit_from_dtype}\n",
            "        2    0.000    0.000    0.000    0.000 _methods.py:42(_amin)\n",
            "        2    0.000    0.000    0.000    0.000 base.py:6303(_is_comparable_dtype)\n",
            "        1    0.000    0.000    0.000    0.000 <__array_function__ internals>:177(can_cast)\n",
            "        2    0.000    0.000    0.000    0.000 base.py:46(__len__)\n",
            "        2    0.000    0.000    0.000    0.000 blocks.py:2161(new_block_2d)\n",
            "        4    0.000    0.000    0.000    0.000 managers.py:233(is_single_block)\n",
            "        4    0.000    0.000    0.000    0.000 base.py:1194(_maybe_disallow_fill)\n",
            "        4    0.000    0.000    0.000    0.000 base.py:163(array)\n",
            "        2    0.000    0.000    0.000    0.000 indexing.py:278(loc)\n",
            "        4    0.000    0.000    0.000    0.000 datetimes.py:194(_scalar_type)\n",
            "        6    0.000    0.000    0.000    0.000 managers.py:287(<listcomp>)\n",
            "        2    0.000    0.000    0.000    0.000 _validators.py:49(_check_for_default_values)\n",
            "        2    0.000    0.000    0.000    0.000 {built-in method fromkeys}\n",
            "        4    0.000    0.000    0.000    0.000 base.py:1734(name)\n",
            "        6    0.000    0.000    0.000    0.000 inference.py:292(<genexpr>)\n",
            "        2    0.000    0.000    0.000    0.000 range.py:541(equals)\n",
            "        2    0.000    0.000    0.000    0.000 _ufunc_config.py:425(__init__)\n",
            "        2    0.000    0.000    0.000    0.000 inspect.py:191(isclass)\n",
            "        2    0.000    0.000    0.000    0.000 generic.py:640(_info_axis)\n",
            "        2    0.000    0.000    0.000    0.000 {method 'format' of 'str' objects}\n",
            "        4    0.000    0.000    0.000    0.000 base.py:574(_ensure_array)\n",
            "       16    0.000    0.000    0.000    0.000 base.py:324(ndim)\n",
            "        2    0.000    0.000    0.000    0.000 common.py:151(cast_scalar_indexer)\n",
            "        2    0.000    0.000    0.000    0.000 enum.py:801(value)\n",
            "        4    0.000    0.000    0.000    0.000 managers.py:238(items)\n",
            "        6    0.000    0.000    0.000    0.000 managers.py:330(<dictcomp>)\n",
            "        4    0.000    0.000    0.000    0.000 managers.py:188(blklocs)\n",
            "        4    0.000    0.000    0.000    0.000 {method 'lower' of 'str' objects}\n",
            "        2    0.000    0.000    0.000    0.000 series.py:846(__array__)\n",
            "        2    0.000    0.000    0.000    0.000 base.py:7456(unpack_nested_dtype)\n",
            "        2    0.000    0.000    0.000    0.000 managers.py:1796(<listcomp>)\n",
            "        2    0.000    0.000    0.000    0.000 utils.py:66(is_list_like_indexer)\n",
            "        4    0.000    0.000    0.000    0.000 base.py:555(<genexpr>)\n",
            "        2    0.000    0.000    0.000    0.000 series.py:546(_constructor)\n",
            "        4    0.000    0.000    0.000    0.000 common.py:196(<genexpr>)\n",
            "        2    0.000    0.000    0.000    0.000 datetimelike.py:926(freq)\n",
            "        4    0.000    0.000    0.000    0.000 nanops.py:195(_get_fill_value)\n",
            "        2    0.000    0.000    0.000    0.000 common.py:393(is_timedelta64_dtype)\n",
            "        4    0.000    0.000    0.000    0.000 generic.py:664(ndim)\n",
            "        1    0.000    0.000    0.000    0.000 cast.py:566(_maybe_promote_cached)\n",
            "        2    0.000    0.000    0.000    0.000 datetimes.py:458(_check_compatible_with)\n",
            "        2    0.000    0.000    0.000    0.000 series.py:764(__len__)\n",
            "        4    0.000    0.000    0.000    0.000 base.py:241(disallow_kwargs)\n",
            "        4    0.000    0.000    0.000    0.000 {pandas._libs.lib.item_from_zerodim}\n",
            "        2    0.000    0.000    0.000    0.000 managers.py:1864(_consolidate_inplace)\n",
            "        2    0.000    0.000    0.000    0.000 fromnumeric.py:2965(_prod_dispatcher)\n",
            "        4    0.000    0.000    0.000    0.000 {method 'items' of 'dict' objects}\n",
            "        2    0.000    0.000    0.000    0.000 {method 'copy' of 'dict' objects}\n",
            "        3    0.000    0.000    0.000    0.000 {pandas._libs.lib.is_float}\n",
            "        1    0.000    0.000    0.000    0.000 {method 'disable' of '_lsprof.Profiler' objects}\n",
            "        2    0.000    0.000    0.000    0.000 fromnumeric.py:2399(_all_dispatcher)\n",
            "        1    0.000    0.000    0.000    0.000 base.py:728(_constructor)\n",
            "        2    0.000    0.000    0.000    0.000 {method 'extend' of 'list' objects}\n",
            "        2    0.000    0.000    0.000    0.000 {method 'keys' of 'dict' objects}\n",
            "        2    0.000    0.000    0.000    0.000 numerictypes.py:650(<listcomp>)\n",
            "        1    0.000    0.000    0.000    0.000 multiarray.py:498(can_cast)\n",
            "\n",
            "\n"
          ]
        }
      ]
    },
    {
      "cell_type": "code",
      "source": [
        "from collections import defaultdict\n",
        "\n",
        "def get_word_reviews_count_optimized(df):\n",
        "    word_reviews_count = defaultdict(int)\n",
        "    \n",
        "    for _, row in df.dropna(subset=['review']).iterrows():\n",
        "        review = row['review']\n",
        "        words = review.split(' ')\n",
        "        \n",
        "        unique_words = set(words)  # Уникальные слова в отзыве\n",
        "        \n",
        "        for word in unique_words:\n",
        "            word_reviews_count[word] += 1\n",
        "    \n",
        "    return word_reviews_count"
      ],
      "metadata": {
        "id": "4j9OeHcobQb1"
      },
      "execution_count": 31,
      "outputs": []
    },
    {
      "cell_type": "code",
      "source": [
        "import line_profiler\n",
        "\n",
        "profiler = line_profiler.LineProfiler(get_word_reviews_count_optimized, get_word_reviews_count)\n",
        "profiler.enable()\n",
        "\n",
        "word_reviews_count_optimized = get_word_reviews_count_optimized(reviews)\n",
        "word_reviews_count = get_word_reviews_count(reviews)\n",
        "\n",
        "profiler.disable()\n",
        "profiler.print_stats()"
      ],
      "metadata": {
        "colab": {
          "base_uri": "https://localhost:8080/"
        },
        "id": "aobY4CdwbRij",
        "outputId": "a865134b-f519-4795-b0e8-e8d634d3481e"
      },
      "execution_count": 32,
      "outputs": [
        {
          "output_type": "stream",
          "name": "stdout",
          "text": [
            "Timer unit: 1e-09 s\n",
            "\n",
            "Total time: 52.5688 s\n",
            "File: <ipython-input-29-b1bc049bcd0c>\n",
            "Function: get_word_reviews_count at line 1\n",
            "\n",
            "Line #      Hits         Time  Per Hit   % Time  Line Contents\n",
            "==============================================================\n",
            "     1                                           def get_word_reviews_count(df):\n",
            "     2         1       2709.0   2709.0      0.0      word_reviews = {}\n",
            "     3    126679 14184707572.0 111973.6     27.0      for _, row in df.dropna(subset=['review']).iterrows():\n",
            "     4    126679 3295142692.0  26011.8      6.3          recipe_id, review = row['recipe_id'], row['review']\n",
            "     5    126679  845634405.0   6675.4      1.6          words = review.split(' ')\n",
            "     6   6792010 1873257435.0    275.8      3.6          for word in words:\n",
            "     7   6617066 4105939066.0    620.5      7.8              if word not in word_reviews:\n",
            "     8    174944  119418381.0    682.6      0.2                  word_reviews[word] = []\n",
            "     9   6792010 5412698971.0    796.9     10.3              word_reviews[word].append(recipe_id)\n",
            "    10                                               \n",
            "    11         1       2021.0   2021.0      0.0      word_reviews_count = {}\n",
            "    12    126679 11687356339.0  92259.6     22.2      for _, row in df.dropna(subset=['review']).iterrows():\n",
            "    13    126679 1735108902.0  13696.9      3.3          review = row['review']\n",
            "    14    126679  668920142.0   5280.4      1.3          words = review.split(' ')\n",
            "    15   6792010 1738961845.0    256.0      3.3          for word in words:\n",
            "    16   6792010 6901642597.0   1016.1     13.1              word_reviews_count[word] = len(word_reviews[word])\n",
            "    17         1       1137.0   1137.0      0.0      return word_reviews_count\n",
            "\n",
            "Total time: 20.7026 s\n",
            "File: <ipython-input-31-849ad95c555f>\n",
            "Function: get_word_reviews_count_optimized at line 3\n",
            "\n",
            "Line #      Hits         Time  Per Hit   % Time  Line Contents\n",
            "==============================================================\n",
            "     3                                           def get_word_reviews_count_optimized(df):\n",
            "     4         1       4345.0   4345.0      0.0      word_reviews_count = defaultdict(int)\n",
            "     5                                               \n",
            "     6    126679 11803148072.0  93173.7     57.0      for _, row in df.dropna(subset=['review']).iterrows():\n",
            "     7    126679 1763472673.0  13920.8      8.5          review = row['review']\n",
            "     8    126679  623190665.0   4919.4      3.0          words = review.split(' ')\n",
            "     9                                                   \n",
            "    10    126679  837295969.0   6609.6      4.0          unique_words = set(words)  # Уникальные слова в отзыве\n",
            "    11                                                   \n",
            "    12   5387307 1554215203.0    288.5      7.5          for word in unique_words:\n",
            "    13   5387307 4121248473.0    765.0     19.9              word_reviews_count[word] += 1\n",
            "    14                                               \n",
            "    15         1        554.0    554.0      0.0      return word_reviews_count\n",
            "\n"
          ]
        }
      ]
    },
    {
      "cell_type": "markdown",
      "metadata": {
        "id": "VaVeCgdhaaqk"
      },
      "source": [
        "4. Напишите несколько версий функции `MAPE` (см. [MAPE](https://en.wikipedia.org/wiki/Mean_absolute_percentage_error)) для расчета среднего абсолютного процентного отклонения значения рейтинга отзыва на рецепт от среднего значения рейтинга по всем отзывам для этого рецепта. \n",
        "    1. Без использования векторизованных операций и методов массивов `numpy` и без использования `numba`\n",
        "    2. Без использования векторизованных операций и методов массивов `numpy`, но с использованием `numba`\n",
        "    3. С использованием векторизованных операций и методов массивов `numpy`, но без использования `numba`\n",
        "    4. C использованием векторизованных операций и методов массивов `numpy` и `numba`\n",
        "    \n",
        "Измерьте время выполнения каждой из реализаций.\n",
        "\n",
        "Замечание: удалите из выборки отзывы с нулевым рейтингом.\n"
      ]
    },
    {
      "cell_type": "code",
      "execution_count": 33,
      "metadata": {
        "id": "j5E3GRVlaaqk",
        "colab": {
          "base_uri": "https://localhost:8080/"
        },
        "outputId": "16d6d3e1-e342-4265-cd1d-9faf5f9e9c70"
      },
      "outputs": [
        {
          "output_type": "stream",
          "name": "stdout",
          "text": [
            "CPU times: user 7 µs, sys: 0 ns, total: 7 µs\n",
            "Wall time: 11.7 µs\n"
          ]
        }
      ],
      "source": [
        "%%time\n",
        "def calculate_mape_v1(df):\n",
        "    total_mape = 0\n",
        "    count = 0\n",
        "    \n",
        "    for _, row in df.iterrows():\n",
        "        rating = row['rating']\n",
        "        if rating != 0:\n",
        "            average_rating = df[df['recipe_id'] == row['recipe_id']]['rating'].mean()\n",
        "            mape = abs(rating - average_rating) / average_rating\n",
        "            total_mape += mape\n",
        "            count += 1\n",
        "    \n",
        "    if count > 0:\n",
        "        return total_mape / count\n",
        "    else:\n",
        "        return None"
      ]
    },
    {
      "cell_type": "code",
      "execution_count": 34,
      "metadata": {
        "id": "bkzSAIFpaaqk",
        "colab": {
          "base_uri": "https://localhost:8080/"
        },
        "outputId": "f72fb347-4420-4b4e-da1f-63d62ee6192b"
      },
      "outputs": [
        {
          "output_type": "stream",
          "name": "stdout",
          "text": [
            "CPU times: user 291 ms, sys: 46.2 ms, total: 337 ms\n",
            "Wall time: 1.1 s\n"
          ]
        }
      ],
      "source": [
        "%%time\n",
        "from numba import njit\n",
        "\n",
        "@njit\n",
        "def calculate_mape_v2(df):\n",
        "    total_mape = 0\n",
        "    count = 0\n",
        "    \n",
        "    for _, row in df.iterrows():\n",
        "        rating = row['rating']\n",
        "        if rating != 0:\n",
        "            average_rating = df[df['recipe_id'] == row['recipe_id']]['rating'].mean()\n",
        "            mape = abs(rating - average_rating) / average_rating\n",
        "            total_mape += mape\n",
        "            count += 1\n",
        "    \n",
        "    if count > 0:\n",
        "        return total_mape / count\n",
        "    else:\n",
        "        return None"
      ]
    },
    {
      "cell_type": "code",
      "source": [
        "%%time\n",
        "import numpy as np\n",
        "\n",
        "def calculate_mape_v3(df):\n",
        "    ratings = df['rating'].values\n",
        "    recipe_ids = df['recipe_id'].values\n",
        "    \n",
        "    mask = (ratings != 0)\n",
        "    non_zero_ratings = ratings[mask]\n",
        "    non_zero_recipe_ids = recipe_ids[mask]\n",
        "    \n",
        "    average_ratings = np.zeros_like(non_zero_ratings)\n",
        "    unique_recipe_ids = np.unique(non_zero_recipe_ids)\n",
        "    \n",
        "    for recipe_id in unique_recipe_ids:\n",
        "        mask = (non_zero_recipe_ids == recipe_id)\n",
        "        average_ratings[mask] = np.mean(non_zero_ratings[mask])\n",
        "    \n",
        "    mape = np.abs(non_zero_ratings - average_ratings) / average_ratings\n",
        "    \n",
        "    return np.mean(mape)"
      ],
      "metadata": {
        "colab": {
          "base_uri": "https://localhost:8080/"
        },
        "id": "fjrMNHBVbj_D",
        "outputId": "7d0543f5-b05a-42cb-a6e7-1a980a1999cd"
      },
      "execution_count": 35,
      "outputs": [
        {
          "output_type": "stream",
          "name": "stdout",
          "text": [
            "CPU times: user 11 µs, sys: 0 ns, total: 11 µs\n",
            "Wall time: 14.8 µs\n"
          ]
        }
      ]
    },
    {
      "cell_type": "code",
      "source": [
        "%%time\n",
        "from numba import njit\n",
        "\n",
        "@njit\n",
        "def calculate_mape_v4(df):\n",
        "    ratings = df['rating'].values\n",
        "    recipe_ids = df['recipe_id'].values\n",
        "    \n",
        "    mask = (ratings != 0)\n",
        "    non_zero_ratings = ratings[mask]\n",
        "    non_zero_recipe_ids = recipe_ids[mask]\n",
        "    \n",
        "    average_ratings = np.zeros_like(non_zero_ratings)\n",
        "    unique_recipe_ids = np.unique(non_zero_recipe_ids)\n",
        "    \n",
        "    for recipe_id in unique_recipe_ids:\n",
        "        mask = (non_zero_recipe_ids == recipe_id)\n",
        "        average_ratings[mask] = np.mean(non_zero_ratings[mask])\n",
        "    \n",
        "    mape = np.abs(non_zero_ratings - average_ratings) / average_ratings\n",
        "    \n",
        "    return np.mean(mape)"
      ],
      "metadata": {
        "colab": {
          "base_uri": "https://localhost:8080/"
        },
        "id": "LUhyVeGNbl33",
        "outputId": "ba72e458-7cbb-432d-db0b-a25762d20130"
      },
      "execution_count": 36,
      "outputs": [
        {
          "output_type": "stream",
          "name": "stdout",
          "text": [
            "CPU times: user 383 µs, sys: 0 ns, total: 383 µs\n",
            "Wall time: 387 µs\n"
          ]
        }
      ]
    },
    {
      "cell_type": "markdown",
      "metadata": {
        "id": "B1J1ktotaaqk"
      },
      "source": [
        "#### [версия 2]\n",
        "* Уточнены формулировки задач 1, 3, 4"
      ]
    },
    {
      "cell_type": "code",
      "execution_count": null,
      "metadata": {
        "id": "X_pEohPUaaql"
      },
      "outputs": [],
      "source": []
    }
  ],
  "metadata": {
    "kernelspec": {
      "display_name": "Python 3",
      "language": "python",
      "name": "python3"
    },
    "language_info": {
      "codemirror_mode": {
        "name": "ipython",
        "version": 3
      },
      "file_extension": ".py",
      "mimetype": "text/x-python",
      "name": "python",
      "nbconvert_exporter": "python",
      "pygments_lexer": "ipython3",
      "version": "3.7.4"
    },
    "colab": {
      "provenance": []
    }
  },
  "nbformat": 4,
  "nbformat_minor": 0
}