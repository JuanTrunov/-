{
  "cells": [
    {
      "cell_type": "markdown",
      "metadata": {
        "id": "uvdHJKGn6BPm"
      },
      "source": [
        "# Работа с Excel"
      ]
    },
    {
      "cell_type": "markdown",
      "metadata": {
        "id": "Y79AoDQo6BPp"
      },
      "source": [
        "Материалы:\n",
        "* Макрушин С.В. Лекция 7: Работа с Excel\n",
        "* https://docs.xlwings.org/en/stable/quickstart.html\n",
        "* https://nbviewer.jupyter.org/github/pybokeh/jupyter_notebooks/blob/master/xlwings/Excel_Formatting.ipynb#search_text\n"
      ]
    },
    {
      "cell_type": "code",
      "execution_count": null,
      "metadata": {
        "colab": {
          "base_uri": "https://localhost:8080/"
        },
        "id": "nTcBlp_nFcxo",
        "outputId": "5727f57a-3cb8-480d-8fc3-0fc7394dcaa4"
      },
      "outputs": [
        {
          "name": "stdout",
          "output_type": "stream",
          "text": [
            "Requirement already satisfied: xlwings in c:\\programdata\\anaconda3\\lib\\site-packages (0.24.9)\n",
            "Requirement already satisfied: pywin32>=224 in c:\\programdata\\anaconda3\\lib\\site-packages (from xlwings) (228)\n"
          ]
        }
      ],
      "source": [
        "!pip install xlwings\n"
      ]
    },
    {
      "cell_type": "code",
      "execution_count": null,
      "metadata": {
        "id": "wts-XF1n-jVp"
      },
      "outputs": [],
      "source": [
        "import pandas as pd\n",
        "import xlwings as xw\n",
        "import openpyxl"
      ]
    },
    {
      "cell_type": "markdown",
      "metadata": {
        "id": "H3dH8p7E6BPq"
      },
      "source": [
        "## Задачи для совместного разбора"
      ]
    },
    {
      "cell_type": "markdown",
      "metadata": {
        "id": "KxOGEFAA6BPr"
      },
      "source": [
        "1. На листе \"Рецептура\" файла `себестоимостьА_в1.xlsx` для области \"Пшеничный хлеб\" рассчитать себестоимость всех видов продукции."
      ]
    },
    {
      "cell_type": "code",
      "execution_count": null,
      "metadata": {
        "colab": {
          "base_uri": "https://localhost:8080/",
          "height": 235
        },
        "id": "Nm3ZaINaVfua",
        "outputId": "4048c23f-efef-4c47-ce3a-9cd5b152f188"
      },
      "outputs": [
        {
          "ename": "FileNotFoundError",
          "evalue": "No such file: 'себестоимостьа_в1.xlsx'",
          "output_type": "error",
          "traceback": [
            "\u001b[1;31m---------------------------------------------------------------------------\u001b[0m",
            "\u001b[1;31mFileNotFoundError\u001b[0m                         Traceback (most recent call last)",
            "\u001b[1;32m~\\AppData\\Local\\Temp/ipykernel_8568/3100467869.py\u001b[0m in \u001b[0;36m<module>\u001b[1;34m\u001b[0m\n\u001b[1;32m----> 1\u001b[1;33m \u001b[0ma\u001b[0m \u001b[1;33m=\u001b[0m \u001b[0mxw\u001b[0m\u001b[1;33m.\u001b[0m\u001b[0mBook\u001b[0m\u001b[1;33m(\u001b[0m\u001b[1;34m'себестоимостьА_в1.xlsx'\u001b[0m\u001b[1;33m)\u001b[0m\u001b[1;33m\u001b[0m\u001b[1;33m\u001b[0m\u001b[0m\n\u001b[0m\u001b[0;32m      2\u001b[0m \u001b[0mws\u001b[0m \u001b[1;33m=\u001b[0m \u001b[0ma\u001b[0m\u001b[1;33m.\u001b[0m\u001b[0msheets\u001b[0m\u001b[1;33m[\u001b[0m\u001b[1;36m0\u001b[0m\u001b[1;33m]\u001b[0m\u001b[1;33m\u001b[0m\u001b[1;33m\u001b[0m\u001b[0m\n\u001b[0;32m      3\u001b[0m \u001b[0mtable\u001b[0m \u001b[1;33m=\u001b[0m \u001b[0mws\u001b[0m\u001b[1;33m[\u001b[0m\u001b[1;34m'рцп_пшеничный_хлеб'\u001b[0m\u001b[1;33m]\u001b[0m\u001b[1;33m.\u001b[0m\u001b[0moptions\u001b[0m\u001b[1;33m(\u001b[0m\u001b[0mempty\u001b[0m\u001b[1;33m=\u001b[0m\u001b[1;36m0\u001b[0m\u001b[1;33m)\u001b[0m\u001b[1;33m\u001b[0m\u001b[1;33m\u001b[0m\u001b[0m\n\u001b[0;32m      4\u001b[0m \u001b[0mvalues\u001b[0m \u001b[1;33m=\u001b[0m \u001b[0mtable\u001b[0m\u001b[1;33m.\u001b[0m\u001b[0mvalue\u001b[0m\u001b[1;33m\u001b[0m\u001b[1;33m\u001b[0m\u001b[0m\n\u001b[0;32m      5\u001b[0m \u001b[0mvalues_prices\u001b[0m \u001b[1;33m=\u001b[0m \u001b[1;33m[\u001b[0m\u001b[0mi\u001b[0m \u001b[1;32mfor\u001b[0m \u001b[0mi\u001b[0m \u001b[1;32min\u001b[0m \u001b[0mvalues\u001b[0m \u001b[1;32mif\u001b[0m \u001b[0mi\u001b[0m\u001b[1;33m[\u001b[0m\u001b[1;36m0\u001b[0m\u001b[1;33m]\u001b[0m \u001b[1;33m==\u001b[0m \u001b[1;34m'Цена ресурсов, руб.'\u001b[0m\u001b[1;33m]\u001b[0m\u001b[1;33m[\u001b[0m\u001b[1;36m0\u001b[0m\u001b[1;33m]\u001b[0m\u001b[1;33m\u001b[0m\u001b[1;33m\u001b[0m\u001b[0m\n",
            "\u001b[1;32mC:\\ProgramData\\Anaconda3\\lib\\site-packages\\xlwings\\main.py\u001b[0m in \u001b[0;36m__init__\u001b[1;34m(self, fullname, update_links, read_only, format, password, write_res_password, ignore_read_only_recommended, origin, delimiter, editable, notify, converter, add_to_mru, local, corrupt_load, impl)\u001b[0m\n\u001b[0;32m    680\u001b[0m                     \u001b[1;32mif\u001b[0m \u001b[1;32mnot\u001b[0m \u001b[0mapp\u001b[0m\u001b[1;33m:\u001b[0m\u001b[1;33m\u001b[0m\u001b[1;33m\u001b[0m\u001b[0m\n\u001b[0;32m    681\u001b[0m                         \u001b[0mapp\u001b[0m \u001b[1;33m=\u001b[0m \u001b[0mApp\u001b[0m\u001b[1;33m(\u001b[0m\u001b[0madd_book\u001b[0m\u001b[1;33m=\u001b[0m\u001b[1;32mFalse\u001b[0m\u001b[1;33m)\u001b[0m\u001b[1;33m\u001b[0m\u001b[1;33m\u001b[0m\u001b[0m\n\u001b[1;32m--> 682\u001b[1;33m                     impl = app.books.open(fullname, update_links, read_only, format, password, write_res_password,\n\u001b[0m\u001b[0;32m    683\u001b[0m                                           \u001b[0mignore_read_only_recommended\u001b[0m\u001b[1;33m,\u001b[0m \u001b[0morigin\u001b[0m\u001b[1;33m,\u001b[0m \u001b[0mdelimiter\u001b[0m\u001b[1;33m,\u001b[0m \u001b[0meditable\u001b[0m\u001b[1;33m,\u001b[0m \u001b[0mnotify\u001b[0m\u001b[1;33m,\u001b[0m \u001b[0mconverter\u001b[0m\u001b[1;33m,\u001b[0m\u001b[1;33m\u001b[0m\u001b[1;33m\u001b[0m\u001b[0m\n\u001b[0;32m    684\u001b[0m                                           add_to_mru, local, corrupt_load).impl\n",
            "\u001b[1;32mC:\\ProgramData\\Anaconda3\\lib\\site-packages\\xlwings\\main.py\u001b[0m in \u001b[0;36mopen\u001b[1;34m(self, fullname, update_links, read_only, format, password, write_res_password, ignore_read_only_recommended, origin, delimiter, editable, notify, converter, add_to_mru, local, corrupt_load)\u001b[0m\n\u001b[0;32m   4271\u001b[0m         \u001b[0mfullname\u001b[0m \u001b[1;33m=\u001b[0m \u001b[0mutils\u001b[0m\u001b[1;33m.\u001b[0m\u001b[0mfspath\u001b[0m\u001b[1;33m(\u001b[0m\u001b[0mfullname\u001b[0m\u001b[1;33m)\u001b[0m\u001b[1;33m\u001b[0m\u001b[1;33m\u001b[0m\u001b[0m\n\u001b[0;32m   4272\u001b[0m         \u001b[1;32mif\u001b[0m \u001b[1;32mnot\u001b[0m \u001b[0mos\u001b[0m\u001b[1;33m.\u001b[0m\u001b[0mpath\u001b[0m\u001b[1;33m.\u001b[0m\u001b[0mexists\u001b[0m\u001b[1;33m(\u001b[0m\u001b[0mfullname\u001b[0m\u001b[1;33m)\u001b[0m\u001b[1;33m:\u001b[0m\u001b[1;33m\u001b[0m\u001b[1;33m\u001b[0m\u001b[0m\n\u001b[1;32m-> 4273\u001b[1;33m             \u001b[1;32mraise\u001b[0m \u001b[0mFileNotFoundError\u001b[0m\u001b[1;33m(\u001b[0m\u001b[1;34m\"No such file: '%s'\"\u001b[0m \u001b[1;33m%\u001b[0m \u001b[0mfullname\u001b[0m\u001b[1;33m)\u001b[0m\u001b[1;33m\u001b[0m\u001b[1;33m\u001b[0m\u001b[0m\n\u001b[0m\u001b[0;32m   4274\u001b[0m         \u001b[0mfullname\u001b[0m \u001b[1;33m=\u001b[0m \u001b[0mos\u001b[0m\u001b[1;33m.\u001b[0m\u001b[0mpath\u001b[0m\u001b[1;33m.\u001b[0m\u001b[0mrealpath\u001b[0m\u001b[1;33m(\u001b[0m\u001b[0mfullname\u001b[0m\u001b[1;33m)\u001b[0m\u001b[1;33m\u001b[0m\u001b[1;33m\u001b[0m\u001b[0m\n\u001b[0;32m   4275\u001b[0m         \u001b[0m_\u001b[0m\u001b[1;33m,\u001b[0m \u001b[0mname\u001b[0m \u001b[1;33m=\u001b[0m \u001b[0mos\u001b[0m\u001b[1;33m.\u001b[0m\u001b[0mpath\u001b[0m\u001b[1;33m.\u001b[0m\u001b[0msplit\u001b[0m\u001b[1;33m(\u001b[0m\u001b[0mfullname\u001b[0m\u001b[1;33m)\u001b[0m\u001b[1;33m\u001b[0m\u001b[1;33m\u001b[0m\u001b[0m\n",
            "\u001b[1;31mFileNotFoundError\u001b[0m: No such file: 'себестоимостьа_в1.xlsx'"
          ]
        }
      ],
      "source": [
        "a = xw.Book('себестоимостьА_в1.xlsx')\n",
        "ws = a.sheets[0]\n",
        "table = ws['рцп_пшеничный_хлеб'].options(empty=0)\n",
        "values = table.value\n",
        "values_prices = [i for i in values if i[0] == 'Цена ресурсов, руб.'][0]\n",
        "values_prices = values_prices[5:-4]\n",
        "values_resourses = values[3:7]\n",
        "for i in range(len(values_resourses)):\n",
        "    values_resourses[i] = values_resourses[i][5:-4]\n",
        "\n",
        "sums = []\n",
        "for el in values_resourses:\n",
        "    sum = 0\n",
        "    for i in range(len(el)):\n",
        "        sum += el[i]*values_prices[i]\n",
        "    sums.append(sum)\n",
        "sums"
      ]
    },
    {
      "cell_type": "markdown",
      "metadata": {
        "id": "2xW9nvCM6BPr"
      },
      "source": [
        "2. Результаты расчетов 1.1 сохранить в отдельном столбце области \"Пшеничный хлеб\""
      ]
    },
    {
      "cell_type": "markdown",
      "metadata": {
        "id": "QNzUxLkh6BPr"
      },
      "source": [
        "3. Приблизить форматирование столбца, добавленного в задаче 2 к оформлению всей области."
      ]
    },
    {
      "cell_type": "markdown",
      "metadata": {
        "id": "-fHljRyp6BPs"
      },
      "source": [
        "4. Выполнить 3 с помощью \"протягиваемых\" формул."
      ]
    },
    {
      "cell_type": "markdown",
      "metadata": {
        "id": "gjOZfhtS6BPs"
      },
      "source": [
        "## Лабораторная работа 7.1"
      ]
    },
    {
      "cell_type": "markdown",
      "metadata": {
        "id": "fAWa8aWx6BPs"
      },
      "source": [
        "1. Загрузите данные из файлов `reviews_sample.csv` (__ЛР2__) и `recipes_sample.csv` (__ЛР5__) в виде `pd.DataFrame`. Обратите внимание на корректное считывание столбца(ов) с индексами. Оставьте в таблице с рецептами следующие столбцы: `id`, `name`, `minutes`, `submitted`, `description`, `n_ingredients`"
      ]
    },
    {
      "cell_type": "code",
      "execution_count": null,
      "metadata": {
        "colab": {
          "base_uri": "https://localhost:8080/",
          "height": 206
        },
        "id": "6oENgJ8r-hCN",
        "outputId": "77ee1afc-9d42-45b6-8c9f-d43723f5db60"
      },
      "outputs": [
        {
          "data": {
            "text/html": [
              "\n",
              "  <div id=\"df-2117b83a-4eb5-4ad4-8802-89a2e1266e78\">\n",
              "    <div class=\"colab-df-container\">\n",
              "      <div>\n",
              "<style scoped>\n",
              "    .dataframe tbody tr th:only-of-type {\n",
              "        vertical-align: middle;\n",
              "    }\n",
              "\n",
              "    .dataframe tbody tr th {\n",
              "        vertical-align: top;\n",
              "    }\n",
              "\n",
              "    .dataframe thead th {\n",
              "        text-align: right;\n",
              "    }\n",
              "</style>\n",
              "<table border=\"1\" class=\"dataframe\">\n",
              "  <thead>\n",
              "    <tr style=\"text-align: right;\">\n",
              "      <th></th>\n",
              "      <th>user_id</th>\n",
              "      <th>recipe_id</th>\n",
              "      <th>date</th>\n",
              "      <th>rating</th>\n",
              "      <th>review</th>\n",
              "    </tr>\n",
              "  </thead>\n",
              "  <tbody>\n",
              "    <tr>\n",
              "      <th>370476</th>\n",
              "      <td>21752</td>\n",
              "      <td>57993</td>\n",
              "      <td>2003-05-01</td>\n",
              "      <td>5</td>\n",
              "      <td>Last week whole sides of frozen salmon fillet ...</td>\n",
              "    </tr>\n",
              "    <tr>\n",
              "      <th>624300</th>\n",
              "      <td>431813</td>\n",
              "      <td>142201</td>\n",
              "      <td>2007-09-16</td>\n",
              "      <td>5</td>\n",
              "      <td>So simple and so tasty!  I used a yellow capsi...</td>\n",
              "    </tr>\n",
              "    <tr>\n",
              "      <th>187037</th>\n",
              "      <td>400708</td>\n",
              "      <td>252013</td>\n",
              "      <td>2008-01-10</td>\n",
              "      <td>4</td>\n",
              "      <td>Very nice breakfast HH, easy to make and yummy...</td>\n",
              "    </tr>\n",
              "    <tr>\n",
              "      <th>706134</th>\n",
              "      <td>2001852463</td>\n",
              "      <td>404716</td>\n",
              "      <td>2017-12-11</td>\n",
              "      <td>5</td>\n",
              "      <td>These are a favorite for the holidays and so e...</td>\n",
              "    </tr>\n",
              "    <tr>\n",
              "      <th>312179</th>\n",
              "      <td>95810</td>\n",
              "      <td>129396</td>\n",
              "      <td>2008-03-14</td>\n",
              "      <td>5</td>\n",
              "      <td>Excellent soup!  The tomato flavor is just gre...</td>\n",
              "    </tr>\n",
              "  </tbody>\n",
              "</table>\n",
              "</div>\n",
              "      <button class=\"colab-df-convert\" onclick=\"convertToInteractive('df-2117b83a-4eb5-4ad4-8802-89a2e1266e78')\"\n",
              "              title=\"Convert this dataframe to an interactive table.\"\n",
              "              style=\"display:none;\">\n",
              "        \n",
              "  <svg xmlns=\"http://www.w3.org/2000/svg\" height=\"24px\"viewBox=\"0 0 24 24\"\n",
              "       width=\"24px\">\n",
              "    <path d=\"M0 0h24v24H0V0z\" fill=\"none\"/>\n",
              "    <path d=\"M18.56 5.44l.94 2.06.94-2.06 2.06-.94-2.06-.94-.94-2.06-.94 2.06-2.06.94zm-11 1L8.5 8.5l.94-2.06 2.06-.94-2.06-.94L8.5 2.5l-.94 2.06-2.06.94zm10 10l.94 2.06.94-2.06 2.06-.94-2.06-.94-.94-2.06-.94 2.06-2.06.94z\"/><path d=\"M17.41 7.96l-1.37-1.37c-.4-.4-.92-.59-1.43-.59-.52 0-1.04.2-1.43.59L10.3 9.45l-7.72 7.72c-.78.78-.78 2.05 0 2.83L4 21.41c.39.39.9.59 1.41.59.51 0 1.02-.2 1.41-.59l7.78-7.78 2.81-2.81c.8-.78.8-2.07 0-2.86zM5.41 20L4 18.59l7.72-7.72 1.47 1.35L5.41 20z\"/>\n",
              "  </svg>\n",
              "      </button>\n",
              "      \n",
              "  <style>\n",
              "    .colab-df-container {\n",
              "      display:flex;\n",
              "      flex-wrap:wrap;\n",
              "      gap: 12px;\n",
              "    }\n",
              "\n",
              "    .colab-df-convert {\n",
              "      background-color: #E8F0FE;\n",
              "      border: none;\n",
              "      border-radius: 50%;\n",
              "      cursor: pointer;\n",
              "      display: none;\n",
              "      fill: #1967D2;\n",
              "      height: 32px;\n",
              "      padding: 0 0 0 0;\n",
              "      width: 32px;\n",
              "    }\n",
              "\n",
              "    .colab-df-convert:hover {\n",
              "      background-color: #E2EBFA;\n",
              "      box-shadow: 0px 1px 2px rgba(60, 64, 67, 0.3), 0px 1px 3px 1px rgba(60, 64, 67, 0.15);\n",
              "      fill: #174EA6;\n",
              "    }\n",
              "\n",
              "    [theme=dark] .colab-df-convert {\n",
              "      background-color: #3B4455;\n",
              "      fill: #D2E3FC;\n",
              "    }\n",
              "\n",
              "    [theme=dark] .colab-df-convert:hover {\n",
              "      background-color: #434B5C;\n",
              "      box-shadow: 0px 1px 3px 1px rgba(0, 0, 0, 0.15);\n",
              "      filter: drop-shadow(0px 1px 2px rgba(0, 0, 0, 0.3));\n",
              "      fill: #FFFFFF;\n",
              "    }\n",
              "  </style>\n",
              "\n",
              "      <script>\n",
              "        const buttonEl =\n",
              "          document.querySelector('#df-2117b83a-4eb5-4ad4-8802-89a2e1266e78 button.colab-df-convert');\n",
              "        buttonEl.style.display =\n",
              "          google.colab.kernel.accessAllowed ? 'block' : 'none';\n",
              "\n",
              "        async function convertToInteractive(key) {\n",
              "          const element = document.querySelector('#df-2117b83a-4eb5-4ad4-8802-89a2e1266e78');\n",
              "          const dataTable =\n",
              "            await google.colab.kernel.invokeFunction('convertToInteractive',\n",
              "                                                     [key], {});\n",
              "          if (!dataTable) return;\n",
              "\n",
              "          const docLinkHtml = 'Like what you see? Visit the ' +\n",
              "            '<a target=\"_blank\" href=https://colab.research.google.com/notebooks/data_table.ipynb>data table notebook</a>'\n",
              "            + ' to learn more about interactive tables.';\n",
              "          element.innerHTML = '';\n",
              "          dataTable['output_type'] = 'display_data';\n",
              "          await google.colab.output.renderOutput(dataTable, element);\n",
              "          const docLink = document.createElement('div');\n",
              "          docLink.innerHTML = docLinkHtml;\n",
              "          element.appendChild(docLink);\n",
              "        }\n",
              "      </script>\n",
              "    </div>\n",
              "  </div>\n",
              "  "
            ],
            "text/plain": [
              "           user_id  recipe_id        date  rating  \\\n",
              "370476       21752      57993  2003-05-01       5   \n",
              "624300      431813     142201  2007-09-16       5   \n",
              "187037      400708     252013  2008-01-10       4   \n",
              "706134  2001852463     404716  2017-12-11       5   \n",
              "312179       95810     129396  2008-03-14       5   \n",
              "\n",
              "                                                   review  \n",
              "370476  Last week whole sides of frozen salmon fillet ...  \n",
              "624300  So simple and so tasty!  I used a yellow capsi...  \n",
              "187037  Very nice breakfast HH, easy to make and yummy...  \n",
              "706134  These are a favorite for the holidays and so e...  \n",
              "312179  Excellent soup!  The tomato flavor is just gre...  "
            ]
          },
          "execution_count": 4,
          "metadata": {},
          "output_type": "execute_result"
        }
      ],
      "source": [
        "reviews_df = pd.read_csv('reviews_sample.csv', index_col=0)\n",
        "recipes_df = pd.read_csv('recipes_sample.csv')\n",
        "\n",
        "reviews_df.head()"
      ]
    },
    {
      "cell_type": "code",
      "execution_count": null,
      "metadata": {
        "id": "FbS9Ztm9_ANr"
      },
      "outputs": [],
      "source": [
        "recipes_df.head()"
      ]
    },
    {
      "cell_type": "code",
      "execution_count": null,
      "metadata": {
        "id": "tDfBMMIKDblQ"
      },
      "outputs": [],
      "source": [
        "# Оставляем только нужные столбцы в recipes_df\n",
        "recipes_df = recipes_df[['id', 'name', 'minutes', 'submitted', 'description', 'n_ingredients']]"
      ]
    },
    {
      "cell_type": "code",
      "execution_count": null,
      "metadata": {
        "colab": {
          "base_uri": "https://localhost:8080/",
          "height": 206
        },
        "id": "hGH-UcEIDfxF",
        "outputId": "4434a0bc-082c-41ff-d121-f0fa868d82ea"
      },
      "outputs": [
        {
          "data": {
            "text/html": [
              "\n",
              "  <div id=\"df-61a6dca7-1824-40ed-b0e6-8c329a51e045\">\n",
              "    <div class=\"colab-df-container\">\n",
              "      <div>\n",
              "<style scoped>\n",
              "    .dataframe tbody tr th:only-of-type {\n",
              "        vertical-align: middle;\n",
              "    }\n",
              "\n",
              "    .dataframe tbody tr th {\n",
              "        vertical-align: top;\n",
              "    }\n",
              "\n",
              "    .dataframe thead th {\n",
              "        text-align: right;\n",
              "    }\n",
              "</style>\n",
              "<table border=\"1\" class=\"dataframe\">\n",
              "  <thead>\n",
              "    <tr style=\"text-align: right;\">\n",
              "      <th></th>\n",
              "      <th>id</th>\n",
              "      <th>name</th>\n",
              "      <th>minutes</th>\n",
              "      <th>submitted</th>\n",
              "      <th>description</th>\n",
              "      <th>n_ingredients</th>\n",
              "    </tr>\n",
              "  </thead>\n",
              "  <tbody>\n",
              "    <tr>\n",
              "      <th>0</th>\n",
              "      <td>44123</td>\n",
              "      <td>george s at the cove  black bean soup</td>\n",
              "      <td>90</td>\n",
              "      <td>2002-10-25</td>\n",
              "      <td>an original recipe created by chef scott meska...</td>\n",
              "      <td>18.0</td>\n",
              "    </tr>\n",
              "    <tr>\n",
              "      <th>1</th>\n",
              "      <td>67664</td>\n",
              "      <td>healthy for them  yogurt popsicles</td>\n",
              "      <td>10</td>\n",
              "      <td>2003-07-26</td>\n",
              "      <td>my children and their friends ask for my homem...</td>\n",
              "      <td>NaN</td>\n",
              "    </tr>\n",
              "    <tr>\n",
              "      <th>2</th>\n",
              "      <td>38798</td>\n",
              "      <td>i can t believe it s spinach</td>\n",
              "      <td>30</td>\n",
              "      <td>2002-08-29</td>\n",
              "      <td>these were so go, it surprised even me.</td>\n",
              "      <td>8.0</td>\n",
              "    </tr>\n",
              "    <tr>\n",
              "      <th>3</th>\n",
              "      <td>35173</td>\n",
              "      <td>italian  gut busters</td>\n",
              "      <td>45</td>\n",
              "      <td>2002-07-27</td>\n",
              "      <td>my sister-in-law made these for us at a family...</td>\n",
              "      <td>NaN</td>\n",
              "    </tr>\n",
              "    <tr>\n",
              "      <th>4</th>\n",
              "      <td>84797</td>\n",
              "      <td>love is in the air  beef fondue   sauces</td>\n",
              "      <td>25</td>\n",
              "      <td>2004-02-23</td>\n",
              "      <td>i think a fondue is a very romantic casual din...</td>\n",
              "      <td>NaN</td>\n",
              "    </tr>\n",
              "  </tbody>\n",
              "</table>\n",
              "</div>\n",
              "      <button class=\"colab-df-convert\" onclick=\"convertToInteractive('df-61a6dca7-1824-40ed-b0e6-8c329a51e045')\"\n",
              "              title=\"Convert this dataframe to an interactive table.\"\n",
              "              style=\"display:none;\">\n",
              "        \n",
              "  <svg xmlns=\"http://www.w3.org/2000/svg\" height=\"24px\"viewBox=\"0 0 24 24\"\n",
              "       width=\"24px\">\n",
              "    <path d=\"M0 0h24v24H0V0z\" fill=\"none\"/>\n",
              "    <path d=\"M18.56 5.44l.94 2.06.94-2.06 2.06-.94-2.06-.94-.94-2.06-.94 2.06-2.06.94zm-11 1L8.5 8.5l.94-2.06 2.06-.94-2.06-.94L8.5 2.5l-.94 2.06-2.06.94zm10 10l.94 2.06.94-2.06 2.06-.94-2.06-.94-.94-2.06-.94 2.06-2.06.94z\"/><path d=\"M17.41 7.96l-1.37-1.37c-.4-.4-.92-.59-1.43-.59-.52 0-1.04.2-1.43.59L10.3 9.45l-7.72 7.72c-.78.78-.78 2.05 0 2.83L4 21.41c.39.39.9.59 1.41.59.51 0 1.02-.2 1.41-.59l7.78-7.78 2.81-2.81c.8-.78.8-2.07 0-2.86zM5.41 20L4 18.59l7.72-7.72 1.47 1.35L5.41 20z\"/>\n",
              "  </svg>\n",
              "      </button>\n",
              "      \n",
              "  <style>\n",
              "    .colab-df-container {\n",
              "      display:flex;\n",
              "      flex-wrap:wrap;\n",
              "      gap: 12px;\n",
              "    }\n",
              "\n",
              "    .colab-df-convert {\n",
              "      background-color: #E8F0FE;\n",
              "      border: none;\n",
              "      border-radius: 50%;\n",
              "      cursor: pointer;\n",
              "      display: none;\n",
              "      fill: #1967D2;\n",
              "      height: 32px;\n",
              "      padding: 0 0 0 0;\n",
              "      width: 32px;\n",
              "    }\n",
              "\n",
              "    .colab-df-convert:hover {\n",
              "      background-color: #E2EBFA;\n",
              "      box-shadow: 0px 1px 2px rgba(60, 64, 67, 0.3), 0px 1px 3px 1px rgba(60, 64, 67, 0.15);\n",
              "      fill: #174EA6;\n",
              "    }\n",
              "\n",
              "    [theme=dark] .colab-df-convert {\n",
              "      background-color: #3B4455;\n",
              "      fill: #D2E3FC;\n",
              "    }\n",
              "\n",
              "    [theme=dark] .colab-df-convert:hover {\n",
              "      background-color: #434B5C;\n",
              "      box-shadow: 0px 1px 3px 1px rgba(0, 0, 0, 0.15);\n",
              "      filter: drop-shadow(0px 1px 2px rgba(0, 0, 0, 0.3));\n",
              "      fill: #FFFFFF;\n",
              "    }\n",
              "  </style>\n",
              "\n",
              "      <script>\n",
              "        const buttonEl =\n",
              "          document.querySelector('#df-61a6dca7-1824-40ed-b0e6-8c329a51e045 button.colab-df-convert');\n",
              "        buttonEl.style.display =\n",
              "          google.colab.kernel.accessAllowed ? 'block' : 'none';\n",
              "\n",
              "        async function convertToInteractive(key) {\n",
              "          const element = document.querySelector('#df-61a6dca7-1824-40ed-b0e6-8c329a51e045');\n",
              "          const dataTable =\n",
              "            await google.colab.kernel.invokeFunction('convertToInteractive',\n",
              "                                                     [key], {});\n",
              "          if (!dataTable) return;\n",
              "\n",
              "          const docLinkHtml = 'Like what you see? Visit the ' +\n",
              "            '<a target=\"_blank\" href=https://colab.research.google.com/notebooks/data_table.ipynb>data table notebook</a>'\n",
              "            + ' to learn more about interactive tables.';\n",
              "          element.innerHTML = '';\n",
              "          dataTable['output_type'] = 'display_data';\n",
              "          await google.colab.output.renderOutput(dataTable, element);\n",
              "          const docLink = document.createElement('div');\n",
              "          docLink.innerHTML = docLinkHtml;\n",
              "          element.appendChild(docLink);\n",
              "        }\n",
              "      </script>\n",
              "    </div>\n",
              "  </div>\n",
              "  "
            ],
            "text/plain": [
              "      id                                      name  minutes   submitted  \\\n",
              "0  44123     george s at the cove  black bean soup       90  2002-10-25   \n",
              "1  67664        healthy for them  yogurt popsicles       10  2003-07-26   \n",
              "2  38798              i can t believe it s spinach       30  2002-08-29   \n",
              "3  35173                      italian  gut busters       45  2002-07-27   \n",
              "4  84797  love is in the air  beef fondue   sauces       25  2004-02-23   \n",
              "\n",
              "                                         description  n_ingredients  \n",
              "0  an original recipe created by chef scott meska...           18.0  \n",
              "1  my children and their friends ask for my homem...            NaN  \n",
              "2            these were so go, it surprised even me.            8.0  \n",
              "3  my sister-in-law made these for us at a family...            NaN  \n",
              "4  i think a fondue is a very romantic casual din...            NaN  "
            ]
          },
          "execution_count": 7,
          "metadata": {},
          "output_type": "execute_result"
        }
      ],
      "source": [
        "recipes_df.head()"
      ]
    },
    {
      "cell_type": "markdown",
      "metadata": {
        "id": "lRY92D6r6BPt"
      },
      "source": [
        "2. Случайным образом выберите 5% строк из каждой таблицы и сохраните две таблицы на разные листы в один файл `recipes.xlsx`. Дайте листам названия \"Рецепты\" и \"Отзывы\", соответствующие содержанию таблиц. "
      ]
    },
    {
      "cell_type": "code",
      "execution_count": null,
      "metadata": {
        "id": "VG3MubYEETVn"
      },
      "outputs": [],
      "source": [
        "# Случайная выборка 5% строк\n",
        "reviews_df = reviews_df.sample(frac=0.05, random_state=42) # 42 - Зерно\n",
        "recipes_df = recipes_df.sample(frac=0.05, random_state=42)\n",
        "\n",
        "# Сохранение двух таблиц на разные листы в файл recipes.xlsx\n",
        "with pd.ExcelWriter('recipes.xlsx') as writer:\n",
        "    recipes_df.to_excel(writer, sheet_name='Рецепты')\n",
        "    reviews_df.to_excel(writer, sheet_name='Отзывы')"
      ]
    },
    {
      "cell_type": "markdown",
      "metadata": {
        "id": "dOBs29EI6BPt"
      },
      "source": [
        "3. Используя `xlwings`, добавьте на лист `Рецепты` столбец `seconds_assign`, показывающий время выполнения рецепта в секундах. Выполните задание при помощи присваивания массива значений диапазону ячеек."
      ]
    },
    {
      "cell_type": "code",
      "execution_count": null,
      "metadata": {
        "id": "0YsqCpjuFBAR"
      },
      "outputs": [],
      "source": [
        "''' Выполение в Google Colab невозможно. Cделано в PyCharm. Папка \"Задание №3\" '''\n",
        "\n",
        "\n",
        "# Загрузка файла Excel\n",
        "wb = xw.Book('recipes.xlsx')\n",
        "\n",
        "# Загрузка листа \"Рецепты\" в DataFrame\n",
        "recipes_df = pd.read_excel('recipes.xlsx', sheet_name='Рецепты')\n",
        "\n",
        "# Вычисление времени выполнения рецепта в секундах\n",
        "recipes_df['seconds_assign'] = recipes_df['minutes'] * 60\n",
        "\n",
        "# Запись столбца \"seconds_assign\" обратно в лист \"Рецепты\"\n",
        "ws = wb.sheets['Рецепты'] # ws = worksheet\n",
        "ws.range('G1').value = 'seconds_assign'\n",
        "ws.range('G2').options(index=False, header=False).value = recipes_df['seconds_assign']\n",
        "\n",
        "# Сохранение измененной книги в новый файл\n",
        "wb.save('recipes_2.xlsx')\n"
      ]
    },
    {
      "cell_type": "markdown",
      "metadata": {
        "id": "crNnzR2OUya5"
      },
      "source": [
        "![ffff.png](data:image/png;base64,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)"
      ]
    },
    {
      "cell_type": "markdown",
      "metadata": {
        "id": "VgYCgzpY6BPt"
      },
      "source": [
        "4. Используя `xlwings`, добавьте на лист `Рецепты` столбец `seconds_formula`, показывающий время выполнения рецепта в секундах. Выполните задание при помощи формул Excel."
      ]
    },
    {
      "cell_type": "code",
      "execution_count": null,
      "metadata": {
        "id": "Vs_w2EeM5_aM"
      },
      "outputs": [],
      "source": [
        "''' Выполение в Google Colab невозможно. Cделано в PyCharm. Папка \"Задание №4\" '''\n",
        "\n",
        "\n",
        "# Загрузка файла Excel\n",
        "wb = xw.Book('recipes.xlsx')\n",
        "\n",
        "# Выбор листа \"Рецепты\"\n",
        "ws = wb.sheets['Рецепты']\n",
        "\n",
        "# Добавление формулы в ячейку G1 для столбца \"seconds_formula\"\n",
        "ws.range('G1').value = 'seconds_formula'\n",
        "ws.range('G2').formula = '=B2*60'\n",
        "\n",
        "# Автозаполнение формулы для всех ячеек столбца \"seconds_formula\"\n",
        "last_row = ws.range('D' + str(ws.cells.last_cell.row)).end('up').row\n",
        "ws.range('G2:G' + str(last_row)).formula = '=D2*60'\n",
        "\n",
        "# Сохранение изменений и закрытие книги Excel\n",
        "wb.save('recipes_3.xlsx')\n",
        "\n",
        "\n"
      ]
    },
    {
      "cell_type": "markdown",
      "metadata": {
        "id": "i9fT-Gl7UhgN"
      },
      "source": [
        "![recipes.png](data:image/png;base64,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)"
      ]
    },
    {
      "cell_type": "markdown",
      "metadata": {
        "id": "trKeNbFC6BPt"
      },
      "source": [
        "5. Сделайте названия всех добавленных столбцов полужирными и выровняйте по \n",
        "центру ячейки."
      ]
    },
    {
      "cell_type": "code",
      "execution_count": null,
      "metadata": {
        "id": "6wX5ICcSDXBo"
      },
      "outputs": [],
      "source": [
        "ws['I1:J1'].font.bold = True\n",
        "ws['I:J'].api.HorizontalAlignment = xw.constants.HAlign.xlHAlignCenter"
      ]
    },
    {
      "cell_type": "markdown",
      "metadata": {
        "id": "FpmzDw3T6BPu"
      },
      "source": [
        "6. Раскрасьте ячейки столбца `minutes` в соответствии со следующим правилом: если рецепт выполняется быстрее 5 минут, то цвет - зеленый; от 5 до 10 минут - жёлтый; и больше 10 - красный."
      ]
    },
    {
      "cell_type": "code",
      "execution_count": null,
      "metadata": {
        "id": "PoN-_OjiYNtI"
      },
      "outputs": [],
      "source": [
        "for el in ws['C:C'][1:].expand('down'):\n",
        "    if el.value < 5:\n",
        "        el.color = (0, 255, 0)\n",
        "    elif el.value > 10:\n",
        "        el.color = (255, 0, 0)\n",
        "    else:\n",
        "        el.color = (255, 255, 0)"
      ]
    },
    {
      "cell_type": "markdown",
      "metadata": {
        "id": "cZ4-Db8p6BPu"
      },
      "source": [
        "7. Добавьте на лист `Рецепты`  столбец `n_reviews`, содержащий кол-во отзывов для этого рецепта. Выполните задание при помощи формул Excel."
      ]
    },
    {
      "cell_type": "markdown",
      "metadata": {
        "id": "0JIZM-kI6BPu"
      },
      "source": [
        "## Лабораторная работа 7.2"
      ]
    },
    {
      "cell_type": "markdown",
      "metadata": {
        "id": "yHFGp2p26BPu"
      },
      "source": [
        "8. Напишите функцию `validate()`, которая проверяет соответствие всех строк из листа `Отзывы` следующим правилам:\n",
        "    * Рейтинг - это число от 0 до 5 включительно\n",
        "    * Соответствующий рецепт имеется на листе `Рецепты`\n",
        "    \n",
        "В случае несоответствия этим правилам, выделите строку красным цветом"
      ]
    },
    {
      "cell_type": "markdown",
      "metadata": {
        "id": "yEQFOrl56BPu"
      },
      "source": [
        "9. В файле `recipes_model.csv` находится модель данных предметной области \"рецепты\". При помощи пакета `csv` считайте эти данные. При помощи пакета `xlwings` запишите данные на лист `Модель` книги `recipes_model.xlsx`, начиная с ячейки `A2`, не используя циклы. Сделайте скриншот текущего состояния листа и прикрепите в ячейку ноутбука. "
      ]
    },
    {
      "cell_type": "markdown",
      "metadata": {
        "id": "DW7mTKRl6BPv"
      },
      "source": [
        "10. При помощи пакета `xlwings` добавьте в столбец J формулу для описания столбца на языке SQL. Формула должна реализовывать следующую логику:\n",
        "\n",
        "    1\\. в начале строки идут значения из столбцов В и C (значение столбца С приведено к верхнему регистру), разделенные пробелом\n",
        "    \n",
        "    2\\. далее идут слова на основе столбца \"Ключ\"\n",
        "        2.1 если в столбце \"Ключ\" указано значение \"PK\", то дальше через пробел идет ключевое слово \"PRIMARY KEY\"\n",
        "        2.2 если в столбце \"Ключ\" указано значение \"FK\", то дальше через пробел идет ключевое слово \"REFERENCES\", затем значения столбцов H и I в формате \"название_таблицы(название_столбца)\"\n",
        "        \n",
        "    3\\. если в столбце \"Обязательно к заполнению\" указано значение \"Y\" и в столбце \"Ключ\" указано не \"PK\", то дальше через пробел идет ключевое слово \"NOT NULL\".\n",
        "\n",
        "Заполните этой формулой необходимое количество строк, используя \"протягивание\". Количество строк для протягивания определите на основе данных.\n",
        "\n",
        "Сделайте скриншот текущего состояния листа и прикрепите в ячейку ноутбука."
      ]
    },
    {
      "cell_type": "markdown",
      "metadata": {
        "id": "3p0EaXoy6BPv"
      },
      "source": [
        "11. При помощи пакета `xlwings` измените стилизацию листа `Модель`.\n",
        "* для заголовков добавьте заливку цвета `00ccff`\n",
        "* примените автоподбор ширины столбца;\n",
        "* сделайте шрифт заголовков полужирным;\n",
        "* добавьте таблице автофильтр.\n",
        "\n",
        "Сделайте скриншот текущего состояния листа и прикрепите в ячейку ноутбука."
      ]
    },
    {
      "cell_type": "markdown",
      "metadata": {
        "id": "i2coPqh76BPv"
      },
      "source": [
        "12. Посчитайте количество атрибутов для каждой из сущностей. Создайте лист `Статистика` и запишите в него результат группировки, начиная с ячейки \"А1\". Визуализируйте полученный результат при помощи столбчатой диаграммы. Сохраните полученную визуализацию на лист `Статистика`, начиная с ячейки \"E2\".  Сделайте скриншот листа `Статистика` и прикрепите в ячейку ноутбука.\n",
        "\n",
        "* Вы можете воспользоваться методами для визуализации, которые поставляются вместе с объектами `pandas` (см. https://pandas.pydata.org/docs/reference/api/pandas.DataFrame.plot) "
      ]
    }
  ],
  "metadata": {
    "colab": {
      "provenance": []
    },
    "kernelspec": {
      "display_name": "Python 3 (ipykernel)",
      "language": "python",
      "name": "python3"
    },
    "language_info": {
      "codemirror_mode": {
        "name": "ipython",
        "version": 3
      },
      "file_extension": ".py",
      "mimetype": "text/x-python",
      "name": "python",
      "nbconvert_exporter": "python",
      "pygments_lexer": "ipython3",
      "version": "3.9.7"
    }
  },
  "nbformat": 4,
  "nbformat_minor": 0
}