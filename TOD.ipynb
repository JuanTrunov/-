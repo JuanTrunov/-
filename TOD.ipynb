{
  "nbformat": 4,
  "nbformat_minor": 0,
  "metadata": {
    "colab": {
      "provenance": []
    },
    "kernelspec": {
      "name": "python3",
      "display_name": "Python 3"
    },
    "language_info": {
      "name": "python"
    }
  },
  "cells": [
    {
      "cell_type": "code",
      "execution_count": 3,
      "metadata": {
        "colab": {
          "base_uri": "https://localhost:8080/"
        },
        "id": "T9JEV3SZSG7E",
        "outputId": "f708ad5e-9154-44ac-a2b7-2db203dce37c"
      },
      "outputs": [
        {
          "output_type": "stream",
          "name": "stdout",
          "text": [
            "[2.16010017e+04 9.05528000e+00]\n",
            "[0 1]\n",
            "[2147483647         39]\n",
            "[40.  9.]\n",
            "479\n"
          ]
        },
        {
          "output_type": "execute_result",
          "data": {
            "text/plain": [
              "array([[[ 67660,      5,      6],\n",
              "        [366174,      7,      9],\n",
              "        [204134,      5,      3],\n",
              "        ...,\n",
              "        [420725,      5,      3],\n",
              "        [  4747,      1,      9],\n",
              "        [370915,      5,      4]],\n",
              "\n",
              "       [[ 94746,     10,      6],\n",
              "        [ 33941,     18,      9],\n",
              "        [446597,     15,      5],\n",
              "        ...,\n",
              "        [  9831,     15,      7],\n",
              "        [335859,     12,     14],\n",
              "        [256812,     10,      3]],\n",
              "\n",
              "       [[127244,     60,     16],\n",
              "        [ 23891,     25,      7],\n",
              "        [157911,     60,     14],\n",
              "        ...,\n",
              "        [168901,     25,      7],\n",
              "        [392339,     35,     13],\n",
              "        [206732,     45,     10]]], dtype=int32)"
            ]
          },
          "metadata": {},
          "execution_count": 3
        }
      ],
      "source": [
        "import numpy as np\n",
        "import pandas\n",
        "\n",
        "#1\n",
        "data = np.loadtxt('minutes_n_ingredients.csv', delimiter=',', skiprows=1, dtype=np.int32)\n",
        "data[:5]\n",
        "\n",
        "#2\n",
        "print(data[:, 1:].mean(axis=0), data[:, 1:].min(axis=0), data[:, 1:].max(axis=0), np.median(data[:, 1:], axis=0), sep='\\n')\n",
        "\n",
        "#3\n",
        "q = np.quantile(data[:, 1], q=0.75)\n",
        "data[:, 1] = data[:, 1].clip(max=q)\n",
        "q\n",
        "\n",
        "#4\n",
        "print(data[data[:, 1]==0].shape[0])\n",
        "data[data[:, 1]==0, 1]=1\n",
        "\n",
        "#5\n",
        "len(np.unique(data[:, 0], axis=0))\n",
        "\n",
        "#6\n",
        "len(np.unique(data[:, 2]))\n",
        "\n",
        "#7\n",
        "np.unique(data[:, 2])\n",
        "\n",
        "#8\n",
        "data_n_ingr_m5 = data[data[:, 2] <= 5].copy()\n",
        "data_n_ingr_m5\n",
        "\n",
        "#9\n",
        "medium_ingred_by_minutes = data[:, 2] / data[:, 1]\n",
        "medium_ingred_by_minutes.mean(), medium_ingred_by_minutes.max()\n",
        "\n",
        "#10\n",
        "data[data[:, 1].argsort()][-100:][:, 2].mean()\n",
        "\n",
        "#11\n",
        "random_ind = np.random.randint(0, 10000, size=10)\n",
        "data[random_ind]\n",
        "\n",
        "#12\n",
        "sred_ingred = data[:, 2].mean()\n",
        "len(data[data[:, 2] < sred_ingred]) / len(data) * 100\n",
        "\n",
        "#13\n",
        "prostota = (data[:, 1] <= 20) & (data[:, 2] <= 5)\n",
        "prostota = prostota.astype(np.int32)\n",
        "prostota = prostota[:, np.newaxis]\n",
        "\n",
        "data_prostota = np.hstack((data, prostota))\n",
        "data_prostota\n",
        "\n",
        "#14\n",
        "len(data_prostota[data_prostota[:, 3] == 1]) / len(data_prostota) * 100\n",
        "\n",
        "#16\n",
        "short = data[data[:, 1] < 10]\n",
        "standart = data[(data[:, 1] >= 10) & (data[:, 1] < 20)]\n",
        "long = data[data[:, 1] >= 20]\n",
        "stop = min([len(arr) for arr in [short, standart, long]])\n",
        "np.array([short[:stop], standart[:stop], long[:stop]])\n"
      ]
    }
  ]
}